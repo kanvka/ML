{
 "cells": [
  {
   "cell_type": "markdown",
   "metadata": {},
   "source": [
    "# Финальный проект: Прогнозирование оттока клиентов\n",
    "\n",
    "## Неделя 4: Построение и оптимизация модели\n",
    "\n",
    "** 2017/01/04**\n",
    "\n",
    "*Юрий Исаков*"
   ]
  },
  {
   "cell_type": "markdown",
   "metadata": {},
   "source": [
    "В рамках проекта мы будем решать задачу прогнозирования оттока пользователей, или churn prediction. Эта задача заключается в прогнозировании вероятности того, что клиент перестанет пользоваться сервисом в течение некоторого заданного заранее промежутка времени, например, решит перейти к конкуренту или откажется от использования услуги данного типа вообще.\n",
    "\n",
    "Данные были предоставлены французской телекоммуникационной компанией Orange. В задаче речь идет о клиентских данных, поэтому данные были предварительно обфусцированы и анонимизированны: из датасета убрана любая персональная информация, позволяющая идентифицировать пользователей, а также не представлены названия и описания переменных, предназначенных для построения прогнозов. Мы будем работать с набором данных orange small dataset. Он состоит из 50 тыс. объектов и включает 230 переменных, из которых первые 190 переменных - числовые, и оставшиеся 40 переменные - категориальные.\n",
    "\n",
    "---\n",
    "\n",
    "В этом задании вам предстоит поучаствовать в соревновании на kaggle inclass\n",
    "\n",
    "Перейдите по ссылке на страницу соревнования: https://inclass.kaggle.com/c/telecom-clients-churn-prediction\n",
    "\n",
    "И приступайте!\n",
    "\n",
    "В соревновании вы будете работать с той же выборкой, что и ранее, поэтому воспользуйтесь результатами полученными на предыдущих неделях. Для успешного участия в соревновании необходимо преодолеть по качеству beseline решение."
   ]
  },
  {
   "cell_type": "code",
   "execution_count": 1,
   "metadata": {
    "collapsed": true
   },
   "outputs": [],
   "source": [
    "# библиотеки\n",
    "import pandas as pd\n",
    "import numpy as np\n",
    "import itertools\n",
    "import xgboost as xgb"
   ]
  },
  {
   "cell_type": "markdown",
   "metadata": {},
   "source": [
    "# 1. Загрузка данных"
   ]
  },
  {
   "cell_type": "code",
   "execution_count": 2,
   "metadata": {
    "collapsed": false
   },
   "outputs": [],
   "source": [
    "train = pd.read_csv(\"data/orange_small_churn_train_data.csv\")\n",
    "train.loc[train['labels'] == -1, 'labels'] = 0\n",
    "labels = train['labels'].copy()\n",
    "test = pd.read_csv('data/orange_small_churn_test_data.csv')\n",
    "\n",
    "# имена категориальных и числовых переменных\n",
    "features_num = train.columns[1:191].tolist()\n",
    "features_cat = train.columns[191:231].tolist()\n",
    "\n",
    "# приводим типы\n",
    "train[features_cat] = train[features_cat].astype(object)\n",
    "test[features_cat] = test[features_cat].astype(object)"
   ]
  },
  {
   "cell_type": "code",
   "execution_count": 3,
   "metadata": {
    "collapsed": false
   },
   "outputs": [
    {
     "name": "stdout",
     "output_type": "stream",
     "text": [
      "0.0744\n"
     ]
    }
   ],
   "source": [
    "# среднее по выборке\n",
    "baseline = labels.mean()\n",
    "print labels.mean()"
   ]
  },
  {
   "cell_type": "markdown",
   "metadata": {},
   "source": [
    "# 2. Категориальные переменные"
   ]
  },
  {
   "cell_type": "code",
   "execution_count": 4,
   "metadata": {
    "collapsed": false
   },
   "outputs": [],
   "source": [
    "# заменим пропущенные значения в категориальных признаках на свое\n",
    "my_na = 'fakenan'\n",
    "train[features_cat] = train[features_cat].fillna(my_na)\n",
    "test[features_cat] = test[features_cat].fillna(my_na)"
   ]
  },
  {
   "cell_type": "code",
   "execution_count": 5,
   "metadata": {
    "collapsed": false
   },
   "outputs": [
    {
     "data": {
      "text/html": [
       "<div>\n",
       "<table border=\"1\" class=\"dataframe\">\n",
       "  <thead>\n",
       "    <tr style=\"text-align: right;\">\n",
       "      <th></th>\n",
       "      <th>Var218Var199</th>\n",
       "      <th>Var218Var212</th>\n",
       "      <th>Var218Var192</th>\n",
       "      <th>Var218Var216</th>\n",
       "      <th>Var218Var205</th>\n",
       "      <th>Var218Var204</th>\n",
       "      <th>Var218Var226</th>\n",
       "      <th>Var218Var197</th>\n",
       "      <th>Var218Var210</th>\n",
       "      <th>Var218Var198</th>\n",
       "      <th>...</th>\n",
       "      <th>Var210Var198</th>\n",
       "      <th>Var210Var229</th>\n",
       "      <th>Var210Var217</th>\n",
       "      <th>Var210Var208</th>\n",
       "      <th>Var198Var229</th>\n",
       "      <th>Var198Var217</th>\n",
       "      <th>Var198Var208</th>\n",
       "      <th>Var229Var217</th>\n",
       "      <th>Var229Var208</th>\n",
       "      <th>Var217Var208</th>\n",
       "    </tr>\n",
       "  </thead>\n",
       "  <tbody>\n",
       "    <tr>\n",
       "      <th>0</th>\n",
       "      <td>cJvF-I1sFbv_0IT</td>\n",
       "      <td>cJvF-JBfYVit4g8</td>\n",
       "      <td>cJvF-NESt0G8EIb</td>\n",
       "      <td>cJvF-TDctq2l</td>\n",
       "      <td>cJvF-09_Q</td>\n",
       "      <td>cJvF-k13i</td>\n",
       "      <td>cJvF-fKCe</td>\n",
       "      <td>cJvF-0LaQ</td>\n",
       "      <td>cJvF-uKAI</td>\n",
       "      <td>cJvF-UaKK0yW</td>\n",
       "      <td>...</td>\n",
       "      <td>uKAI-UaKK0yW</td>\n",
       "      <td>uKAI-fakenan</td>\n",
       "      <td>uKAI-KmRo</td>\n",
       "      <td>uKAI-kIsH</td>\n",
       "      <td>UaKK0yW-fakenan</td>\n",
       "      <td>UaKK0yW-KmRo</td>\n",
       "      <td>UaKK0yW-kIsH</td>\n",
       "      <td>fakenan-KmRo</td>\n",
       "      <td>fakenan-kIsH</td>\n",
       "      <td>KmRo-kIsH</td>\n",
       "    </tr>\n",
       "    <tr>\n",
       "      <th>1</th>\n",
       "      <td>cJvF-o64y9zI</td>\n",
       "      <td>cJvF-XfqtO3UdzaXh_</td>\n",
       "      <td>cJvF-P1WvyxLp3Z</td>\n",
       "      <td>cJvF-XTbqizz</td>\n",
       "      <td>cJvF-VpdQ</td>\n",
       "      <td>cJvF-FbIm</td>\n",
       "      <td>cJvF-xb3V</td>\n",
       "      <td>cJvF-YFAj</td>\n",
       "      <td>cJvF-uKAI</td>\n",
       "      <td>cJvF-Bnunsla</td>\n",
       "      <td>...</td>\n",
       "      <td>uKAI-Bnunsla</td>\n",
       "      <td>uKAI-mj86</td>\n",
       "      <td>uKAI-qMoY</td>\n",
       "      <td>uKAI-kIsH</td>\n",
       "      <td>Bnunsla-mj86</td>\n",
       "      <td>Bnunsla-qMoY</td>\n",
       "      <td>Bnunsla-kIsH</td>\n",
       "      <td>mj86-qMoY</td>\n",
       "      <td>mj86-kIsH</td>\n",
       "      <td>qMoY-kIsH</td>\n",
       "    </tr>\n",
       "    <tr>\n",
       "      <th>2</th>\n",
       "      <td>UYBR-nQUveAzAF7</td>\n",
       "      <td>UYBR-4kVnq_T26xq1p</td>\n",
       "      <td>UYBR-FoxgUHSK8h</td>\n",
       "      <td>UYBR-pMWBUmQ</td>\n",
       "      <td>UYBR-VpdQ</td>\n",
       "      <td>UYBR-mTeA</td>\n",
       "      <td>UYBR-FSa2</td>\n",
       "      <td>UYBR-TyGl</td>\n",
       "      <td>UYBR-uKAI</td>\n",
       "      <td>UYBR-fhk21Ss</td>\n",
       "      <td>...</td>\n",
       "      <td>uKAI-fhk21Ss</td>\n",
       "      <td>uKAI-mj86</td>\n",
       "      <td>uKAI-qLXr</td>\n",
       "      <td>uKAI-kIsH</td>\n",
       "      <td>fhk21Ss-mj86</td>\n",
       "      <td>fhk21Ss-qLXr</td>\n",
       "      <td>fhk21Ss-kIsH</td>\n",
       "      <td>mj86-qLXr</td>\n",
       "      <td>mj86-kIsH</td>\n",
       "      <td>qLXr-kIsH</td>\n",
       "    </tr>\n",
       "    <tr>\n",
       "      <th>3</th>\n",
       "      <td>cJvF-LWyxgtXeJL</td>\n",
       "      <td>cJvF-NhsEn4L</td>\n",
       "      <td>cJvF-vNEvyxLp3Z</td>\n",
       "      <td>cJvF-kZJtVhC</td>\n",
       "      <td>cJvF-VpdQ</td>\n",
       "      <td>cJvF-vzJD</td>\n",
       "      <td>cJvF-xb3V</td>\n",
       "      <td>cJvF-0Xwj</td>\n",
       "      <td>cJvF-uKAI</td>\n",
       "      <td>cJvF-uoZk2Zj</td>\n",
       "      <td>...</td>\n",
       "      <td>uKAI-uoZk2Zj</td>\n",
       "      <td>uKAI-fakenan</td>\n",
       "      <td>uKAI-JC0e</td>\n",
       "      <td>uKAI-kIsH</td>\n",
       "      <td>uoZk2Zj-fakenan</td>\n",
       "      <td>uoZk2Zj-JC0e</td>\n",
       "      <td>uoZk2Zj-kIsH</td>\n",
       "      <td>fakenan-JC0e</td>\n",
       "      <td>fakenan-kIsH</td>\n",
       "      <td>JC0e-kIsH</td>\n",
       "    </tr>\n",
       "    <tr>\n",
       "      <th>4</th>\n",
       "      <td>cJvF-ZIXKpoNpqq</td>\n",
       "      <td>cJvF-NhsEn4L</td>\n",
       "      <td>cJvF-4e7gUH7IEC</td>\n",
       "      <td>cJvF-NGZXfGp</td>\n",
       "      <td>cJvF-sJzTlal</td>\n",
       "      <td>cJvF-m_h1</td>\n",
       "      <td>cJvF-WqMG</td>\n",
       "      <td>cJvF-vSNn</td>\n",
       "      <td>cJvF-uKAI</td>\n",
       "      <td>cJvF-kugYdIL</td>\n",
       "      <td>...</td>\n",
       "      <td>uKAI-kugYdIL</td>\n",
       "      <td>uKAI-fakenan</td>\n",
       "      <td>uKAI-064o</td>\n",
       "      <td>uKAI-kIsH</td>\n",
       "      <td>kugYdIL-fakenan</td>\n",
       "      <td>kugYdIL-064o</td>\n",
       "      <td>kugYdIL-kIsH</td>\n",
       "      <td>fakenan-064o</td>\n",
       "      <td>fakenan-kIsH</td>\n",
       "      <td>064o-kIsH</td>\n",
       "    </tr>\n",
       "  </tbody>\n",
       "</table>\n",
       "<p>5 rows × 91 columns</p>\n",
       "</div>"
      ],
      "text/plain": [
       "      Var218Var199        Var218Var212     Var218Var192  Var218Var216  \\\n",
       "0  cJvF-I1sFbv_0IT     cJvF-JBfYVit4g8  cJvF-NESt0G8EIb  cJvF-TDctq2l   \n",
       "1     cJvF-o64y9zI  cJvF-XfqtO3UdzaXh_  cJvF-P1WvyxLp3Z  cJvF-XTbqizz   \n",
       "2  UYBR-nQUveAzAF7  UYBR-4kVnq_T26xq1p  UYBR-FoxgUHSK8h  UYBR-pMWBUmQ   \n",
       "3  cJvF-LWyxgtXeJL        cJvF-NhsEn4L  cJvF-vNEvyxLp3Z  cJvF-kZJtVhC   \n",
       "4  cJvF-ZIXKpoNpqq        cJvF-NhsEn4L  cJvF-4e7gUH7IEC  cJvF-NGZXfGp   \n",
       "\n",
       "   Var218Var205 Var218Var204 Var218Var226 Var218Var197 Var218Var210  \\\n",
       "0     cJvF-09_Q    cJvF-k13i    cJvF-fKCe    cJvF-0LaQ    cJvF-uKAI   \n",
       "1     cJvF-VpdQ    cJvF-FbIm    cJvF-xb3V    cJvF-YFAj    cJvF-uKAI   \n",
       "2     UYBR-VpdQ    UYBR-mTeA    UYBR-FSa2    UYBR-TyGl    UYBR-uKAI   \n",
       "3     cJvF-VpdQ    cJvF-vzJD    cJvF-xb3V    cJvF-0Xwj    cJvF-uKAI   \n",
       "4  cJvF-sJzTlal    cJvF-m_h1    cJvF-WqMG    cJvF-vSNn    cJvF-uKAI   \n",
       "\n",
       "   Var218Var198     ...       Var210Var198  Var210Var229 Var210Var217  \\\n",
       "0  cJvF-UaKK0yW     ...       uKAI-UaKK0yW  uKAI-fakenan    uKAI-KmRo   \n",
       "1  cJvF-Bnunsla     ...       uKAI-Bnunsla     uKAI-mj86    uKAI-qMoY   \n",
       "2  UYBR-fhk21Ss     ...       uKAI-fhk21Ss     uKAI-mj86    uKAI-qLXr   \n",
       "3  cJvF-uoZk2Zj     ...       uKAI-uoZk2Zj  uKAI-fakenan    uKAI-JC0e   \n",
       "4  cJvF-kugYdIL     ...       uKAI-kugYdIL  uKAI-fakenan    uKAI-064o   \n",
       "\n",
       "  Var210Var208     Var198Var229  Var198Var217  Var198Var208  Var229Var217  \\\n",
       "0    uKAI-kIsH  UaKK0yW-fakenan  UaKK0yW-KmRo  UaKK0yW-kIsH  fakenan-KmRo   \n",
       "1    uKAI-kIsH     Bnunsla-mj86  Bnunsla-qMoY  Bnunsla-kIsH     mj86-qMoY   \n",
       "2    uKAI-kIsH     fhk21Ss-mj86  fhk21Ss-qLXr  fhk21Ss-kIsH     mj86-qLXr   \n",
       "3    uKAI-kIsH  uoZk2Zj-fakenan  uoZk2Zj-JC0e  uoZk2Zj-kIsH  fakenan-JC0e   \n",
       "4    uKAI-kIsH  kugYdIL-fakenan  kugYdIL-064o  kugYdIL-kIsH  fakenan-064o   \n",
       "\n",
       "   Var229Var208 Var217Var208  \n",
       "0  fakenan-kIsH    KmRo-kIsH  \n",
       "1     mj86-kIsH    qMoY-kIsH  \n",
       "2     mj86-kIsH    qLXr-kIsH  \n",
       "3  fakenan-kIsH    JC0e-kIsH  \n",
       "4  fakenan-kIsH    064o-kIsH  \n",
       "\n",
       "[5 rows x 91 columns]"
      ]
     },
     "execution_count": 5,
     "metadata": {},
     "output_type": "execute_result"
    }
   ],
   "source": [
    "# добавляем комбинации\n",
    "cat_2inter = [\"Var218\", \"Var199\", \"Var212\", \"Var192\", \"Var216\", \"Var205\", \"Var204\", \"Var226\",\\\n",
    "              \"Var197\", \"Var210\", \"Var198\", \"Var229\", \"Var217\", \"Var208\"]\n",
    "features_cmb = []\n",
    "\n",
    "train_cmb2 = pd.DataFrame()\n",
    "test_cmb2 = pd.DataFrame()\n",
    "\n",
    "# \n",
    "for cmb in itertools.combinations(cat_2inter, 2):\n",
    "    feat = cmb[0] + cmb[1]\n",
    "    features_cmb.append(feat)\n",
    "    train_cmb2[feat] = train[cmb[0]] + '-' + train[cmb[1]]\n",
    "    test_cmb2[feat] = test[cmb[0]] + '-' + test[cmb[1]]\n",
    "\n",
    "train = pd.concat([train, train_cmb2], axis = 1)\n",
    "test = pd.concat([test, test_cmb2], axis = 1)\n",
    "\n",
    "train[features_cmb].head()"
   ]
  },
  {
   "cell_type": "code",
   "execution_count": 6,
   "metadata": {
    "collapsed": false
   },
   "outputs": [],
   "source": [
    "# категориальные переменные для модели\n",
    "feat_cat_use = ['Var191', 'Var192', 'Var193', 'Var194', 'Var195', 'Var197', 'Var198', 'Var199', 'Var200', \n",
    "                'Var202', 'Var203', 'Var204', 'Var205','Var206', 'Var207', 'Var208', 'Var210', 'Var211', 'Var212', \n",
    "                'Var216', 'Var217', 'Var218', 'Var219', 'Var221', 'Var223', 'Var224', 'Var225', 'Var226', 'Var227', \n",
    "                'Var228', 'Var229'] + features_cmb"
   ]
  },
  {
   "cell_type": "code",
   "execution_count": 7,
   "metadata": {
    "collapsed": false
   },
   "outputs": [],
   "source": [
    "# тест: замена сгенерированных значений вероятностью положительного класса по значениям\n",
    "for feat in feat_cat_use:\n",
    "    tm = train.groupby([feat])['labels'].mean()\n",
    "    test[feat] = test[feat].map(tm)\n",
    "\n",
    "# чего не встретилось заменим на общее среднее\n",
    "test[feat_cat_use] = test[feat_cat_use].fillna(baseline)"
   ]
  },
  {
   "cell_type": "code",
   "execution_count": 8,
   "metadata": {
    "collapsed": false,
    "scrolled": false
   },
   "outputs": [
    {
     "name": "stdout",
     "output_type": "stream",
     "text": [
      "CPU times: user 55.5 s, sys: 18.1 s, total: 1min 13s\n",
      "Wall time: 1min 15s\n"
     ]
    }
   ],
   "source": [
    "%%time\n",
    "# трейн: замена сгенерированных значений вероятностью положительного класса по значениям\n",
    "zebra = 4\n",
    "for feat in feat_cat_use:\n",
    "    train_feat = np.array([np.nan] * train.shape[0])\n",
    "    \n",
    "    # чтобы не переобучиться, разбобьем выборку на несколько частей. тогда средние для первой части будут\n",
    "    # вычисляться по 2, 3 и 4 и т.д.\n",
    "    for i in range(zebra):\n",
    "        idx_rplc = range(train.shape[0])[i::zebra]\n",
    "        idx_tm = list(set(range(train.shape[0])) - set(idx_rplc)) # ппц, как это правильно сделать на питоне?)\n",
    "        tm = train.ix[idx_tm, :].groupby([feat])['labels'].mean()\n",
    "        train_feat[idx_rplc] = train.ix[idx_rplc, feat].map(tm)\n",
    "    \n",
    "    train[feat] = train_feat\n",
    "\n",
    "# чего не встретилось заменим на общее среднее\n",
    "train[feat_cat_use] = train[feat_cat_use].fillna(baseline)"
   ]
  },
  {
   "cell_type": "markdown",
   "metadata": {},
   "source": [
    "# 3. Числовые переменные"
   ]
  },
  {
   "cell_type": "code",
   "execution_count": 9,
   "metadata": {
    "collapsed": false
   },
   "outputs": [],
   "source": [
    "# числовые переменные для модели\n",
    "feat_num_use = ['Var101', 'Var102', 'Var106', 'Var109', 'Var111', 'Var112', 'Var113', 'Var115', 'Var119', 'Var121', \n",
    "                'Var123', 'Var125', 'Var126', 'Var129', 'Var13', 'Var132', 'Var133', 'Var134', 'Var135', 'Var136', \n",
    "                'Var140', 'Var144', 'Var146', 'Var149', 'Var152', 'Var153', 'Var158', 'Var16', 'Var160', 'Var163', \n",
    "                'Var164', 'Var165', 'Var166', 'Var168', 'Var180', 'Var181', 'Var182', 'Var183', 'Var187', 'Var188', \n",
    "                'Var189', 'Var21', 'Var22','Var24', 'Var25', 'Var28', 'Var35', 'Var38', 'Var40', 'Var41', 'Var44', \n",
    "                'Var45', 'Var51', 'Var53', 'Var56', 'Var57', 'Var58', 'Var59', 'Var6', 'Var61', 'Var63', 'Var65', \n",
    "                'Var69', 'Var7', 'Var72', 'Var73', 'Var74', 'Var76', 'Var78', 'Var81', 'Var82', 'Var83', 'Var85', \n",
    "                'Var86', 'Var94', 'Var190']"
   ]
  },
  {
   "cell_type": "code",
   "execution_count": 10,
   "metadata": {
    "collapsed": false
   },
   "outputs": [],
   "source": [
    "# заменяем пропущенные значения средними\n",
    "num_means = train[feat_num_use].mean()\n",
    "train[feat_num_use] = train[feat_num_use].fillna(num_means)\n",
    "test[feat_num_use] = test[feat_num_use].fillna(num_means)"
   ]
  },
  {
   "cell_type": "markdown",
   "metadata": {},
   "source": [
    "# 4. Построение модели"
   ]
  },
  {
   "cell_type": "markdown",
   "metadata": {},
   "source": [
    "Данные готовы для построения модели, вот как выглядят первые строки тренировочной выборки:"
   ]
  },
  {
   "cell_type": "code",
   "execution_count": 11,
   "metadata": {
    "collapsed": false
   },
   "outputs": [
    {
     "data": {
      "text/html": [
       "<div>\n",
       "<table border=\"1\" class=\"dataframe\">\n",
       "  <thead>\n",
       "    <tr style=\"text-align: right;\">\n",
       "      <th></th>\n",
       "      <th>Var101</th>\n",
       "      <th>Var102</th>\n",
       "      <th>Var106</th>\n",
       "      <th>Var109</th>\n",
       "      <th>Var111</th>\n",
       "      <th>Var112</th>\n",
       "      <th>Var113</th>\n",
       "      <th>Var115</th>\n",
       "      <th>Var119</th>\n",
       "      <th>Var121</th>\n",
       "      <th>...</th>\n",
       "      <th>Var210Var198</th>\n",
       "      <th>Var210Var229</th>\n",
       "      <th>Var210Var217</th>\n",
       "      <th>Var210Var208</th>\n",
       "      <th>Var198Var229</th>\n",
       "      <th>Var198Var217</th>\n",
       "      <th>Var198Var208</th>\n",
       "      <th>Var229Var217</th>\n",
       "      <th>Var229Var208</th>\n",
       "      <th>Var217Var208</th>\n",
       "    </tr>\n",
       "  </thead>\n",
       "  <tbody>\n",
       "    <tr>\n",
       "      <th>0</th>\n",
       "      <td>19.131429</td>\n",
       "      <td>29842.227736</td>\n",
       "      <td>38918.903529</td>\n",
       "      <td>144.0</td>\n",
       "      <td>296073.607797</td>\n",
       "      <td>144.0</td>\n",
       "      <td>-1209960.0</td>\n",
       "      <td>30.6571</td>\n",
       "      <td>1660.0</td>\n",
       "      <td>6.989474</td>\n",
       "      <td>...</td>\n",
       "      <td>0.000000</td>\n",
       "      <td>0.084698</td>\n",
       "      <td>0.000000</td>\n",
       "      <td>0.070227</td>\n",
       "      <td>0.000000</td>\n",
       "      <td>0.0744</td>\n",
       "      <td>0.000000</td>\n",
       "      <td>0.0000</td>\n",
       "      <td>0.086048</td>\n",
       "      <td>0.0000</td>\n",
       "    </tr>\n",
       "    <tr>\n",
       "      <th>1</th>\n",
       "      <td>19.131429</td>\n",
       "      <td>29842.227736</td>\n",
       "      <td>38918.903529</td>\n",
       "      <td>80.0</td>\n",
       "      <td>296073.607797</td>\n",
       "      <td>72.0</td>\n",
       "      <td>417932.0</td>\n",
       "      <td>30.6571</td>\n",
       "      <td>1025.0</td>\n",
       "      <td>6.989474</td>\n",
       "      <td>...</td>\n",
       "      <td>0.074400</td>\n",
       "      <td>0.051356</td>\n",
       "      <td>0.074400</td>\n",
       "      <td>0.070847</td>\n",
       "      <td>0.074400</td>\n",
       "      <td>0.0744</td>\n",
       "      <td>0.074400</td>\n",
       "      <td>0.0744</td>\n",
       "      <td>0.054525</td>\n",
       "      <td>0.0744</td>\n",
       "    </tr>\n",
       "    <tr>\n",
       "      <th>2</th>\n",
       "      <td>19.131429</td>\n",
       "      <td>29842.227736</td>\n",
       "      <td>38918.903529</td>\n",
       "      <td>40.0</td>\n",
       "      <td>296073.607797</td>\n",
       "      <td>48.0</td>\n",
       "      <td>-124655.2</td>\n",
       "      <td>30.6571</td>\n",
       "      <td>590.0</td>\n",
       "      <td>6.989474</td>\n",
       "      <td>...</td>\n",
       "      <td>0.034357</td>\n",
       "      <td>0.054951</td>\n",
       "      <td>0.111111</td>\n",
       "      <td>0.071567</td>\n",
       "      <td>0.038797</td>\n",
       "      <td>0.0744</td>\n",
       "      <td>0.034166</td>\n",
       "      <td>0.0000</td>\n",
       "      <td>0.055515</td>\n",
       "      <td>0.1250</td>\n",
       "    </tr>\n",
       "    <tr>\n",
       "      <th>3</th>\n",
       "      <td>19.131429</td>\n",
       "      <td>29842.227736</td>\n",
       "      <td>38918.903529</td>\n",
       "      <td>32.0</td>\n",
       "      <td>296073.607797</td>\n",
       "      <td>32.0</td>\n",
       "      <td>378473.6</td>\n",
       "      <td>30.6571</td>\n",
       "      <td>1435.0</td>\n",
       "      <td>6.989474</td>\n",
       "      <td>...</td>\n",
       "      <td>0.052632</td>\n",
       "      <td>0.089291</td>\n",
       "      <td>0.074400</td>\n",
       "      <td>0.072729</td>\n",
       "      <td>0.090909</td>\n",
       "      <td>0.0744</td>\n",
       "      <td>0.058824</td>\n",
       "      <td>0.0744</td>\n",
       "      <td>0.089704</td>\n",
       "      <td>0.0744</td>\n",
       "    </tr>\n",
       "    <tr>\n",
       "      <th>4</th>\n",
       "      <td>19.131429</td>\n",
       "      <td>29842.227736</td>\n",
       "      <td>38918.903529</td>\n",
       "      <td>32.0</td>\n",
       "      <td>296073.607797</td>\n",
       "      <td>8.0</td>\n",
       "      <td>142602.4</td>\n",
       "      <td>30.6571</td>\n",
       "      <td>490.0</td>\n",
       "      <td>6.989474</td>\n",
       "      <td>...</td>\n",
       "      <td>0.000000</td>\n",
       "      <td>0.084698</td>\n",
       "      <td>0.000000</td>\n",
       "      <td>0.070227</td>\n",
       "      <td>0.000000</td>\n",
       "      <td>0.0744</td>\n",
       "      <td>0.000000</td>\n",
       "      <td>0.0000</td>\n",
       "      <td>0.086048</td>\n",
       "      <td>0.0000</td>\n",
       "    </tr>\n",
       "  </tbody>\n",
       "</table>\n",
       "<p>5 rows × 198 columns</p>\n",
       "</div>"
      ],
      "text/plain": [
       "      Var101        Var102        Var106  Var109         Var111  Var112  \\\n",
       "0  19.131429  29842.227736  38918.903529   144.0  296073.607797   144.0   \n",
       "1  19.131429  29842.227736  38918.903529    80.0  296073.607797    72.0   \n",
       "2  19.131429  29842.227736  38918.903529    40.0  296073.607797    48.0   \n",
       "3  19.131429  29842.227736  38918.903529    32.0  296073.607797    32.0   \n",
       "4  19.131429  29842.227736  38918.903529    32.0  296073.607797     8.0   \n",
       "\n",
       "      Var113   Var115  Var119    Var121      ...       Var210Var198  \\\n",
       "0 -1209960.0  30.6571  1660.0  6.989474      ...           0.000000   \n",
       "1   417932.0  30.6571  1025.0  6.989474      ...           0.074400   \n",
       "2  -124655.2  30.6571   590.0  6.989474      ...           0.034357   \n",
       "3   378473.6  30.6571  1435.0  6.989474      ...           0.052632   \n",
       "4   142602.4  30.6571   490.0  6.989474      ...           0.000000   \n",
       "\n",
       "   Var210Var229  Var210Var217  Var210Var208  Var198Var229  Var198Var217  \\\n",
       "0      0.084698      0.000000      0.070227      0.000000        0.0744   \n",
       "1      0.051356      0.074400      0.070847      0.074400        0.0744   \n",
       "2      0.054951      0.111111      0.071567      0.038797        0.0744   \n",
       "3      0.089291      0.074400      0.072729      0.090909        0.0744   \n",
       "4      0.084698      0.000000      0.070227      0.000000        0.0744   \n",
       "\n",
       "   Var198Var208  Var229Var217  Var229Var208  Var217Var208  \n",
       "0      0.000000        0.0000      0.086048        0.0000  \n",
       "1      0.074400        0.0744      0.054525        0.0744  \n",
       "2      0.034166        0.0000      0.055515        0.1250  \n",
       "3      0.058824        0.0744      0.089704        0.0744  \n",
       "4      0.000000        0.0000      0.086048        0.0000  \n",
       "\n",
       "[5 rows x 198 columns]"
      ]
     },
     "execution_count": 11,
     "metadata": {},
     "output_type": "execute_result"
    }
   ],
   "source": [
    "# признаки, используемые в модели\n",
    "feat_use = feat_num_use + feat_cat_use\n",
    "train[feat_use].head()"
   ]
  },
  {
   "cell_type": "code",
   "execution_count": 12,
   "metadata": {
    "collapsed": true
   },
   "outputs": [],
   "source": [
    "# формат для данных для хгбуста\n",
    "train_xgb = xgb.DMatrix(train[feat_use].as_matrix(), train['labels'])\n",
    "test_xgb = xgb.DMatrix(test[feat_use].as_matrix())"
   ]
  },
  {
   "cell_type": "code",
   "execution_count": 13,
   "metadata": {
    "collapsed": false
   },
   "outputs": [],
   "source": [
    "# параметры обучения\n",
    "param = {'eta': 0.03, 'subsample': 0.7, 'colsample_bytree': 1, \n",
    "         'objective': 'binary:logistic', 'max_depth':3, 'min_child_weight': 5, 'eval_metric': 'auc'}\n",
    "evals = [(train_xgb, 'train')]"
   ]
  },
  {
   "cell_type": "code",
   "execution_count": 14,
   "metadata": {
    "collapsed": false,
    "scrolled": true
   },
   "outputs": [
    {
     "name": "stdout",
     "output_type": "stream",
     "text": [
      "[0]\ttrain-auc:0.675301\n",
      "[50]\ttrain-auc:0.738759\n",
      "[100]\ttrain-auc:0.754419\n",
      "[150]\ttrain-auc:0.765895\n",
      "[200]\ttrain-auc:0.775567\n",
      "[250]\ttrain-auc:0.784437\n",
      "[300]\ttrain-auc:0.792455\n",
      "[350]\ttrain-auc:0.799271\n"
     ]
    }
   ],
   "source": [
    "# обучим модель, будем выводить метрику на обучающей выборке\n",
    "bst = xgb.train(param, train_xgb, num_boost_round = 351, verbose_eval = 50, evals = evals)"
   ]
  },
  {
   "cell_type": "code",
   "execution_count": 15,
   "metadata": {
    "collapsed": false
   },
   "outputs": [],
   "source": [
    "# посылочка\n",
    "y_test = pd.DataFrame({'result': bst.predict(test_xgb), 'ID': test.index})\n",
    "y_test.to_csv('submission.csv', index = False)"
   ]
  },
  {
   "cell_type": "markdown",
   "metadata": {},
   "source": [
    "# 5. Выводы\n",
    "\n",
    "Мне не удалось побить собственный бейслайн (3 неделя). Во-первых, там был другой датасет :), а во-вторых, там было приличное переобучение, т.к. я использовал результаты анализа до выделения отложенной выборки ;) Воспроизведя построение бейслайнов, представленное решение ощутимо сильнее (0.65 vs 0.74 по отложенной выборке), но по лидерборду это отличия не такие выраженные (0.70).\n",
    "\n",
    "Пс: на кросс-валидации значение метрики составляло ~0.745 и оно хорошо согласовывалось со значением на отложенной выборке. На паблике значение ощутимо меньше для самых разных моделей и не всегда оно объясняется не только метрикой на кросс-валидации, но и на отложенной выборке. Возможно тестовая выборка из _немного другого распределения_."
   ]
  },
  {
   "cell_type": "markdown",
   "metadata": {},
   "source": [
    "<img src=https://lh3.googleusercontent.com/T3u97Lq-eiszc89DiHofLZsSSHzZ42gWrohqCULbodqXTGDd0AOJXCsV4eRrqOQQKLqhrGZxg53Z3xFZ2bRUKNZOjb0Ipz4lNTz3FHNZ4SdPt79QTHsrZmVLaEgS4MZgLLCImLiKgmeXTjwcHF9YMpkZqT0FXNGYs3HSKFeCml7oWjllVQ1GbEPeO-58XddsQ-swJW-T2CsO0PNsAyok7J_bl9R5b0EgVGXkgWx2rETo2qwIwPnX5_2gW3YEQ06tIAHs8_NGLM3mUSti-MymjxjV7i9XiXfeB-inGz9w4OhKn8FpGfvDmZ5ITUc1P56ZyZgC_GQ83VcTYp3llrdvPON5AA1Fut-EVwWDQ2bcI2ozvUFZhp00blZDVXHss5NU9IJKd-mVy9gLyBhgPVaBdOzfb0tx0T3zEJE--mUNIWnkGcjdV9q3me7dt45NdflwqT2i2LKbc1VeJCp1b5Gc3jdrK3KDxXbve9CZLwTTS29gfmYlGUl7M85Q-PvX3ZCIZP7RlCtHKdy4kyPslTCZ52e78ZAkwyrXMcX9xRo5dOsv4aIbThlEwMrjP2RR1MRyHiXkiR1Af_I6J7bPWDbugkX-eSpRm7ExSWqLBFtJnqsERgdVwtipvnwvIAcT_k1rj201sSFlPP06FURZo0694XLUze54rI04Gbq10JEf3g=w1938-h1454-no>"
   ]
  }
 ],
 "metadata": {
  "kernelspec": {
   "display_name": "Python 2",
   "language": "python",
   "name": "python2"
  },
  "language_info": {
   "codemirror_mode": {
    "name": "ipython",
    "version": 2
   },
   "file_extension": ".py",
   "mimetype": "text/x-python",
   "name": "python",
   "nbconvert_exporter": "python",
   "pygments_lexer": "ipython2",
   "version": "2.7.11"
  }
 },
 "nbformat": 4,
 "nbformat_minor": 0
}
