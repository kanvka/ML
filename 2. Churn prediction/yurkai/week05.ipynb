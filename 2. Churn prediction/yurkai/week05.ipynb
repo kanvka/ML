{
 "cells": [
  {
   "cell_type": "markdown",
   "metadata": {},
   "source": [
    "# Финальный проект: Прогнозирование оттока клиентов\n",
    "\n",
    "## Неделя 5: Эксперименты с моделью прогнозирования оттока\n",
    "\n",
    "** 2017/01/13**\n",
    "\n",
    "*Юрий Исаков*"
   ]
  },
  {
   "cell_type": "markdown",
   "metadata": {},
   "source": [
    "В рамках проекта мы будем решать задачу прогнозирования оттока пользователей, или churn prediction. Эта задача заключается в прогнозировании вероятности того, что клиент перестанет пользоваться сервисом в течение некоторого заданного заранее промежутка времени, например, решит перейти к конкуренту или откажется от использования услуги данного типа вообще.\n",
    "\n",
    "Данные были предоставлены французской телекоммуникационной компанией Orange. В задаче речь идет о клиентских данных, поэтому данные были предварительно обфусцированы и анонимизированны: из датасета убрана любая персональная информация, позволяющая идентифицировать пользователей, а также не представлены названия и описания переменных, предназначенных для построения прогнозов. Мы будем работать с набором данных orange small dataset. Он состоит из 50 тыс. объектов и включает 230 переменных, из которых первые 190 переменных - числовые, и оставшиеся 40 переменные - категориальные.\n",
    "\n",
    "---\n",
    "\n",
    "На прошлой неделе вы поучаствовали в соревновании на kaggle и, наверняка, большинство успешно справилось с прохождением baseline, а значит пора двигаться дальше - заняться оптимизацией модели, провести серию экспериментов и построить сильное финальное решения.\n",
    "\n",
    "В этом задании вам нужно провести ряд эскпериментов, оценить качество полученных в процессе экспериментирования моделей и выбрать лучшее решение. "
   ]
  },
  {
   "cell_type": "code",
   "execution_count": 1,
   "metadata": {
    "collapsed": false
   },
   "outputs": [
    {
     "name": "stdout",
     "output_type": "stream",
     "text": [
      "Populating the interactive namespace from numpy and matplotlib\n"
     ]
    }
   ],
   "source": [
    "# библиотеки\n",
    "import pandas as pd\n",
    "import numpy as np\n",
    "import itertools\n",
    "import xgboost as xgb\n",
    "\n",
    "from sklearn import metrics\n",
    "from sklearn.model_selection import StratifiedKFold\n",
    "from sklearn.model_selection import learning_curve\n",
    "from sklearn.preprocessing import StandardScaler\n",
    "from sklearn.feature_selection import SelectKBest, SelectFromModel\n",
    "from sklearn.model_selection import GridSearchCV\n",
    "from sklearn.linear_model import LogisticRegression\n",
    "from sklearn.linear_model import LogisticRegressionCV\n",
    "\n",
    "from matplotlib import pyplot as plt\n",
    "import seaborn as sns\n",
    "%pylab inline"
   ]
  },
  {
   "cell_type": "code",
   "execution_count": 2,
   "metadata": {
    "collapsed": false
   },
   "outputs": [],
   "source": [
    "# загрузка данных\n",
    "train = pd.read_csv(\"data/orange_small_churn_train_data.csv\")\n",
    "train.loc[train['labels'] == -1, 'labels'] = 0\n",
    "labels = train['labels'].copy()\n",
    "\n",
    "# имена категориальных и числовых переменных\n",
    "features_num = train.columns[1:191].tolist()\n",
    "features_cat = train.columns[191:231].tolist()\n",
    "\n",
    "# приводим типы\n",
    "train[features_cat] = train[features_cat].astype(object)\n",
    "\n",
    "# среднее по выборке\n",
    "baseline = labels.mean()"
   ]
  },
  {
   "cell_type": "markdown",
   "metadata": {},
   "source": [
    "## 1.  Как много объектов действительно нужно для построения качественной модели?\n",
    "\n",
    "*Начнем с простого. Давайте оценим как много объектов действительно нужно для построения качественной модели. Для обучения доступна достаточно большая выборка и может так оказаться, что начиная с некоторого момента рост размера обучающей выборки перестает влиять на качество модели. Постройте кривые обучения, обучая модель на выборках разного размера начиная с небольшого количество объектов в обучающей выборке и постепенно наращивая её размер с некоторым шагом. Обратите внимание на `sklearn.model_selection.learning_curve`*"
   ]
  },
  {
   "cell_type": "markdown",
   "metadata": {},
   "source": [
    "Здесь я буду работать только с числовыми признаками:"
   ]
  },
  {
   "cell_type": "code",
   "execution_count": 9,
   "metadata": {
    "collapsed": false
   },
   "outputs": [
    {
     "data": {
      "image/png": "[encoded data removed]",
      "text/plain": [
       "<matplotlib.figure.Figure at 0x1134256d0>"
      ]
     },
     "metadata": {},
     "output_type": "display_data"
    }
   ],
   "source": [
    "# заменяем пропущенные значения средними, выбросим пустые колонки и нормализуем\n",
    "X1 = train[features_num].copy()\n",
    "X1 = X1.fillna(X1.mean())\n",
    "X1 = X1.dropna(axis=1,how='all')\n",
    "X1 = pd.DataFrame(StandardScaler().fit_transform(X1))\n",
    "\n",
    "train_sizes, train_scores, test_scores = learning_curve(LogisticRegression(), X1, labels, cv=3, scoring='roc_auc',\n",
    "                                                       train_sizes=[0.2, 0.4, 0.6, 0.8, 1])\n",
    "plt.figure(figsize=(12,6))\n",
    "plt.plot(train_sizes, train_scores.mean(axis=1), label=u\"Обучающая выборка\")\n",
    "plt.plot(train_sizes, test_scores.mean(axis=1), label=u\"Тренировочная выборка\")\n",
    "plt.xlabel(u'Размер выборки')\n",
    "plt.ylabel(u'ROC AUC')\n",
    "plt.legend(loc=\"best\")\n",
    "plt.show()\n",
    "\n",
    "del train_sizes, train_scores, test_scores"
   ]
  },
  {
   "cell_type": "markdown",
   "metadata": {},
   "source": [
    "Как видно из графика, метрика на тестовой выборке продолжает расти с увеличением обучающей выборки. Поэтому на этом объеме чем больше, тем лучше."
   ]
  },
  {
   "cell_type": "markdown",
   "metadata": {},
   "source": [
    "## 2. Баланс классов \n",
    "*Часто несбалансированные по классам выборки приводят к различным проблемам при обучении моделей. Давайте попробуем по-разному обработать выборку, поиграть с распределением объектов по классам и сделать выводы о том, как соотношение классов влияет на качество модели.*"
   ]
  },
  {
   "cell_type": "markdown",
   "metadata": {},
   "source": [
    "### 2.1 Задайте веса объектам\n",
    "\n",
    "*Задайте веса объектам так, чтобы соотношение классов с учетом весов объектов изменилось. Попробуйте не менее трёх различных вариантов весов. Меняются ли результаты классификации? Как это сказывается на качестве модели? Какой вариант выглядит наиболее оптимальным с точки зрения качества?*"
   ]
  },
  {
   "cell_type": "markdown",
   "metadata": {},
   "source": [
    "В исходной выборке положительный класс составляет ~7.4%, т.е. соотношение отрицательного и положительного классов составляет 13:1. Воспользуемся параметром class_weight в логистической регрессии и посмотрим на что он влияет:"
   ]
  },
  {
   "cell_type": "code",
   "execution_count": 3,
   "metadata": {
    "collapsed": true
   },
   "outputs": [],
   "source": [
    "# печатаем метрики по кросс-валидации\n",
    "def get_cv_roc_pr_rc(clf, skf, X, y):\n",
    "    roc_auc = []\n",
    "    pr_auc = []\n",
    "    precision = []\n",
    "    recall = []\n",
    "    models = []\n",
    "    for train, test in skf.split(X, y):\n",
    "        models.append(clf.fit(X.iloc[train,:], y.iloc[train]))\n",
    "        y_pred = clf.predict(X.iloc[test,:])\n",
    "        y_pred_prob = clf.predict_proba(X.iloc[test,:])[:,1]\n",
    "        roc_auc.append(metrics.roc_auc_score(y.iloc[test], y_pred_prob))\n",
    "        pr_auc.append(metrics.average_precision_score(y.iloc[test], y_pred_prob))\n",
    "        precision.append(metrics.precision_score(y.iloc[test], y_pred))\n",
    "        recall.append(metrics.recall_score(y.iloc[test], y_pred))\n",
    "\n",
    "    print 'ROC-AUC:', np.mean(roc_auc)\n",
    "    print 'PR-AUC:', np.mean(pr_auc)\n",
    "    print 'Precission:', np.mean(precision)\n",
    "    print 'Recall:', np.mean(recall)\n",
    "    \n",
    "    return roc_auc, pr_auc, precision, recall, models"
   ]
  },
  {
   "cell_type": "code",
   "execution_count": 10,
   "metadata": {
    "collapsed": false
   },
   "outputs": [
    {
     "name": "stdout",
     "output_type": "stream",
     "text": [
      "ROC-AUC: 0.643830517676\n",
      "PR-AUC: 0.120057132869\n",
      "Precission: 0.1\n",
      "Recall: 0.00201612903226\n"
     ]
    }
   ],
   "source": [
    "skf = StratifiedKFold(n_splits=3, random_state=19)\n",
    "clf = LogisticRegression()\n",
    "roc_auc, pr_auc, precision, recall, models = get_cv_roc_pr_rc(clf, skf, X1, labels)"
   ]
  },
  {
   "cell_type": "code",
   "execution_count": 11,
   "metadata": {
    "collapsed": false
   },
   "outputs": [
    {
     "name": "stdout",
     "output_type": "stream",
     "text": [
      "ROC-AUC: 0.643362278366\n",
      "PR-AUC: 0.11997157512\n",
      "Precission: 0.0277777777778\n",
      "Recall: 0.000336021505376\n"
     ]
    }
   ],
   "source": [
    "w = {0: 3, 1: 1}\n",
    "skf = StratifiedKFold(n_splits=3, random_state=19)\n",
    "clf = LogisticRegression(class_weight=w)\n",
    "roc_auc, pr_auc, precision, recall, models = get_cv_roc_pr_rc(clf, skf, X1, labels)"
   ]
  },
  {
   "cell_type": "code",
   "execution_count": 12,
   "metadata": {
    "collapsed": false
   },
   "outputs": [
    {
     "name": "stdout",
     "output_type": "stream",
     "text": [
      "ROC-AUC: 0.643523063845\n",
      "PR-AUC: 0.119239923398\n",
      "Precission: 0.166644461401\n",
      "Recall: 0.0127688172043\n"
     ]
    }
   ],
   "source": [
    "w = {0: 1, 1: 3}\n",
    "skf = StratifiedKFold(n_splits=3, random_state=19)\n",
    "clf = LogisticRegression(class_weight=w)\n",
    "roc_auc, pr_auc, precision, recall, models = get_cv_roc_pr_rc(clf, skf, X1, labels)"
   ]
  },
  {
   "cell_type": "code",
   "execution_count": 13,
   "metadata": {
    "collapsed": false,
    "scrolled": true
   },
   "outputs": [
    {
     "name": "stdout",
     "output_type": "stream",
     "text": [
      "ROC-AUC: 0.640701126383\n",
      "PR-AUC: 0.116379254852\n",
      "Precission: 0.105783982902\n",
      "Recall: 0.668010752688\n"
     ]
    }
   ],
   "source": [
    "w = {0: 1, 1: 13}\n",
    "skf = StratifiedKFold(n_splits=3, random_state=19)\n",
    "clf = LogisticRegression(class_weight=w)\n",
    "roc_auc, pr_auc, precision, recall, models = get_cv_roc_pr_rc(clf, skf, X1, labels)"
   ]
  },
  {
   "cell_type": "markdown",
   "metadata": {},
   "source": [
    "Изменяя веса каждого класса, мы в большей степени влияем на точность и полноту, чем на остальные метрики."
   ]
  },
  {
   "cell_type": "markdown",
   "metadata": {},
   "source": [
    "### 2.2 Примените к выборке технологию undersampling\n",
    "*Для этого нужно убрать из обучения некоторое количество объектов большего класса таким образом, чтобы соотношение классов изменилось. Попробуйте не менее трёх различных вариантов undersampling (варианты могут отличаться как по количество отфильтрованных объектов, так и по принципу выборка объектов для отсеивания из выборки). Меняются ли результаты классификации? Как это сказывается на качестве модели? Какой вариант выглядит наиболее оптимальным с точки зрения качества?*"
   ]
  },
  {
   "cell_type": "code",
   "execution_count": 14,
   "metadata": {
    "collapsed": false
   },
   "outputs": [
    {
     "name": "stdout",
     "output_type": "stream",
     "text": [
      "0.25 0.5 0.75\n"
     ]
    }
   ],
   "source": [
    "# найдем индексы обоих классов\n",
    "idx_0 = X1[labels == 0].index.tolist()\n",
    "idx_1 = X1[labels == 1].index.tolist()\n",
    "\n",
    "# наблюдения, которые оставим в трех случаях\n",
    "undersample_1 = list(np.random.choice(idx_0, 3*len(idx_1)))\n",
    "undersample_2 = list(np.random.choice(idx_0, 1*len(idx_1)))\n",
    "undersample_3 = list(np.random.choice(idx_0, len(idx_1)/3))\n",
    "\n",
    "# посчитаем соотношение классов\n",
    "print np.mean(labels[undersample_1 + idx_1]), np.mean(labels[undersample_2 + idx_1]),\\\n",
    "    np.mean(labels[undersample_3 + idx_1])"
   ]
  },
  {
   "cell_type": "code",
   "execution_count": 15,
   "metadata": {
    "collapsed": false
   },
   "outputs": [
    {
     "name": "stdout",
     "output_type": "stream",
     "text": [
      "ROC-AUC: 0.6450432989\n",
      "PR-AUC: 0.355954534678\n",
      "Precission: 0.441338067981\n",
      "Recall: 0.0460349462366\n"
     ]
    }
   ],
   "source": [
    "skf = StratifiedKFold(n_splits=3, random_state=19)\n",
    "clf = LogisticRegression()\n",
    "roc_auc, pr_auc, precision, recall, models = get_cv_roc_pr_rc(clf, skf,\\\n",
    "        X1.ix[undersample_1 + idx_1], labels[undersample_1 + idx_1])"
   ]
  },
  {
   "cell_type": "code",
   "execution_count": 16,
   "metadata": {
    "collapsed": false
   },
   "outputs": [
    {
     "name": "stdout",
     "output_type": "stream",
     "text": [
      "ROC-AUC: 0.635229178861\n",
      "PR-AUC: 0.594643399951\n",
      "Precission: 0.592382313411\n",
      "Recall: 0.665994623656\n"
     ]
    }
   ],
   "source": [
    "skf = StratifiedKFold(n_splits=3, random_state=19)\n",
    "clf = LogisticRegression()\n",
    "roc_auc, pr_auc, precision, recall, models = get_cv_roc_pr_rc(clf, skf,\\\n",
    "        X1.ix[undersample_2 + idx_1], labels[undersample_2 + idx_1])"
   ]
  },
  {
   "cell_type": "code",
   "execution_count": 17,
   "metadata": {
    "collapsed": false
   },
   "outputs": [
    {
     "name": "stdout",
     "output_type": "stream",
     "text": [
      "ROC-AUC: 0.598890055412\n",
      "PR-AUC: 0.782977354417\n",
      "Precission: 0.763204771539\n",
      "Recall: 0.956317204301\n"
     ]
    }
   ],
   "source": [
    "skf = StratifiedKFold(n_splits=3, random_state=19)\n",
    "clf = LogisticRegression()\n",
    "roc_auc, pr_auc, precision, recall, models = get_cv_roc_pr_rc(clf, skf,\\\n",
    "        X1.ix[undersample_3 + idx_1], labels[undersample_3 + idx_1])"
   ]
  },
  {
   "cell_type": "markdown",
   "metadata": {},
   "source": [
    "Основная метрика (ROC AUC) несколько падает, если выбрасывать объекты доминирующего класса, зато сильно растут точность и полнота. В этом нет ничего удивительного, в выборке теперь значительно меньше объектов отрицательного класса. В целом, изменение весов и андерсэмплинг ничего не дал."
   ]
  },
  {
   "cell_type": "markdown",
   "metadata": {},
   "source": [
    "## 3. Обработкa пропущенных значений\n",
    "*Теперь перейдем к работе с признаками. Ранее вы реализовали несколько стратегий для обработки пропущенных значений. Сравните эти стратегии между собой с помощью оценки качества моделей кросс-валидации, построенных на датасетах с использованием различных стратегий. Как обработка пропущенных значений сказывается на качестве модели? Какой вариант выглядит наиболее оптимальным с точки зрения качества?*"
   ]
  },
  {
   "cell_type": "code",
   "execution_count": 4,
   "metadata": {
    "collapsed": false
   },
   "outputs": [],
   "source": [
    "# звыбросим пустые колонки из исходного датасета\n",
    "X2 = train[features_num].copy()\n",
    "X2 = X2.dropna(axis=1,how='all')"
   ]
  },
  {
   "cell_type": "code",
   "execution_count": 25,
   "metadata": {
    "collapsed": false
   },
   "outputs": [
    {
     "name": "stdout",
     "output_type": "stream",
     "text": [
      "ROC-AUC: 0.645532356697\n",
      "PR-AUC: 0.122301977977\n",
      "Precission: 0.159047619048\n",
      "Recall: 0.0023518132085\n"
     ]
    }
   ],
   "source": [
    "# замена пропущенных значений на средние\n",
    "X2_mean = X2.fillna(X2.mean())\n",
    "X2_mean = pd.DataFrame(StandardScaler().fit_transform(X2_mean))\n",
    "\n",
    "skf = StratifiedKFold(n_splits=5, random_state=19)\n",
    "clf = LogisticRegression()\n",
    "roc_auc, pr_auc, precision, recall, models = get_cv_roc_pr_rc(clf, skf, X2_mean, labels)"
   ]
  },
  {
   "cell_type": "code",
   "execution_count": 5,
   "metadata": {
    "collapsed": false
   },
   "outputs": [
    {
     "name": "stdout",
     "output_type": "stream",
     "text": [
      "ROC-AUC: 0.651953157307\n",
      "PR-AUC: 0.125152173991\n",
      "Precission: 0.110793650794\n",
      "Recall: 0.00134397383114\n"
     ]
    }
   ],
   "source": [
    "# замена пропущенных значений на медианы\n",
    "X2_median = X2.fillna(X2.median())\n",
    "X2_median = pd.DataFrame(StandardScaler().fit_transform(X2_median))\n",
    "\n",
    "skf = StratifiedKFold(n_splits=5, random_state=19)\n",
    "clf = LogisticRegression()\n",
    "roc_auc, pr_auc, precision, recall, models = get_cv_roc_pr_rc(clf, skf, X2_median, labels)"
   ]
  },
  {
   "cell_type": "markdown",
   "metadata": {},
   "source": [
    "Медианы работают немного лучше. Добавим дополнительный признак -- пропущено ли значение в исходной таблице и опять посчитаем метрики для средних и медиан:"
   ]
  },
  {
   "cell_type": "code",
   "execution_count": 6,
   "metadata": {
    "collapsed": false
   },
   "outputs": [],
   "source": [
    "# создадим признак: пропущенно ли значение в колонке\n",
    "X2_nan = X2.isnull()\n",
    "X2_nan.columns = ['nan_'] + X2_nan.columns"
   ]
  },
  {
   "cell_type": "code",
   "execution_count": 37,
   "metadata": {
    "collapsed": false
   },
   "outputs": [
    {
     "name": "stdout",
     "output_type": "stream",
     "text": [
      "ROC-AUC: 0.689529643641\n",
      "PR-AUC: 0.148929995926\n",
      "Precission: 0.02\n",
      "Recall: 0.000336134453782\n"
     ]
    }
   ],
   "source": [
    "# замена пропущенных значений на средние и использование дамми\n",
    "skf = StratifiedKFold(n_splits=5, random_state=19)\n",
    "clf = LogisticRegression()\n",
    "roc_auc, pr_auc, precision, recall, models = get_cv_roc_pr_rc(clf, skf, pd.concat([X2_mean, X2_nan], axis=1), labels)"
   ]
  },
  {
   "cell_type": "code",
   "execution_count": 36,
   "metadata": {
    "collapsed": false,
    "scrolled": false
   },
   "outputs": [
    {
     "name": "stdout",
     "output_type": "stream",
     "text": [
      "ROC-AUC: 0.689541685369\n",
      "PR-AUC: 0.148962758049\n",
      "Precission: 0.02\n",
      "Recall: 0.000336134453782\n"
     ]
    }
   ],
   "source": [
    "# замена пропущенных значений на медианы и использование дамми\n",
    "skf = StratifiedKFold(n_splits=5, random_state=19)\n",
    "clf = LogisticRegression()\n",
    "roc_auc, pr_auc, precision, recall, models = get_cv_roc_pr_rc(clf, skf, pd.concat([X2_median, X2_nan], axis=1), labels)"
   ]
  },
  {
   "cell_type": "markdown",
   "metadata": {},
   "source": [
    "Использование бинарного признака о пропущенном значении может заметно улучшить метрику."
   ]
  },
  {
   "cell_type": "markdown",
   "metadata": {},
   "source": [
    "## 4. Обработка категориальных признаков\n",
    "*Также вы уже реализовали несколько стратегий для обработки категориальных признаков. Сравните эти стратегии между собой с помощью оценки качества моделей по кросс-валидации, построенных на датасетах с использованием различных стратегий. Как обработка категориальных признаков сказывается на качестве модели? Какой вариант выглядит наиболее оптимальным с точки зрения качества?*"
   ]
  },
  {
   "cell_type": "markdown",
   "metadata": {
    "collapsed": true
   },
   "source": [
    "Как правило, в этом случае применяют два основных метода, дамми кодирование признака или замена на среднее (частоте) по целевой переменной. \n",
    "\n",
    "Второй метод несколько сложнее и его нельзя реализовывать напрямую через методы sklearn (хотя эти реализации часто встречаются в работах). И вот почему: для того, чтобы проводить кросс-валидацию нужен готовый датасет со всеми рассчитанными признаками. Предположим мы берем первый фолд и у нас есть обучающая и тестовая выборки, здесь правильно рассчитать средние по обучающей и применить на тестовой. И точно так же поступить для остальных разбиений. Но простой реалзиации здесь нет, поэтому часто рассчитывают средние по всей выборке сразу, а проводят кросс-валидацию потом. Очевидно, что такой способ ведет к утечке (подробнее можно посмотреть, например, на докладе Станислава Семенова о соревновании на Kaggle BNP Paribas). По этой причине я не буду приводить здесь код для этого метода, а рассмотрю только дамми-кодирование.\n",
    "\n",
    "Возможен и третий подход, можно отсортировать уникальные значения признака в порядке в зависимости от того, как часто при них встречается положительный класс. Тогда мы получим порядковый признак. Для него необходимо проводить кросс-валидацию указанным выше, осторожным методом."
   ]
  },
  {
   "cell_type": "code",
   "execution_count": 7,
   "metadata": {
    "collapsed": true
   },
   "outputs": [],
   "source": [
    "# обработаем категории\n",
    "X3 = train[features_cat].dropna(axis=1,how='all').copy()\n",
    "# заменим наны\n",
    "X3 = X3.fillna('fakenan')\n",
    "# посчитаем количество уникальных значений и отберем те, где меньше 250 уникальных\n",
    "counts = pd.Series([len(X3[X3.columns[i]].value_counts()) for i in range(len(X3.columns))], index = X3.columns)\n",
    "vars_2dummy = counts[counts <250].index\n",
    "# составим дамми переменные\n",
    "X3_dummy = pd.get_dummies(X3[vars_2dummy])\n",
    "# уберем дубликаты\n",
    "X3_dummy = X3_dummy.T.drop_duplicates().T"
   ]
  },
  {
   "cell_type": "code",
   "execution_count": 82,
   "metadata": {
    "collapsed": false
   },
   "outputs": [
    {
     "name": "stdout",
     "output_type": "stream",
     "text": [
      "ROC-AUC: 0.702141573587\n",
      "PR-AUC: 0.171620565444\n",
      "Precission: 0.336075861591\n",
      "Recall: 0.017136653319\n"
     ]
    }
   ],
   "source": [
    "# проверим на кросс-валидации\n",
    "skf = StratifiedKFold(n_splits=5, random_state=19)\n",
    "clf = LogisticRegression()\n",
    "roc_auc, pr_auc, precision, recall, models =\\\n",
    "    get_cv_roc_pr_rc(clf, skf, pd.concat([X2_median, X2_nan, X3_dummy], axis=1), labels)"
   ]
  },
  {
   "cell_type": "markdown",
   "metadata": {},
   "source": [
    "Качество повысилось от добавления дамми-переменных. "
   ]
  },
  {
   "cell_type": "markdown",
   "metadata": {},
   "source": [
    "## 5. Отбор признаков \n",
    "*Все ли признаки оказались полезными для построения моделей? Проведите процедуру отбора признаков, попробуйте разные варианты отбора (обратите внимание на модуль `sklearn.feature_selection`). Например, можно выбрасывать случайные признаки или строить отбор на основе l1-регуляризации - отфильтровать из обучения признаки, которые получат нулевой вес при построении регрессии с l1-регуляризацией (`sklearn.linear_model.Lasso`). И всегда можно придумать что-то своё=) Попробуйте как минимум 2 различные стратегии, сравните результаты. Помог ли отбор признаков улучшить качество модели? Поясните свой ответ.*"
   ]
  },
  {
   "cell_type": "code",
   "execution_count": 8,
   "metadata": {
    "collapsed": false
   },
   "outputs": [],
   "source": [
    "X4 = pd.concat([X2_median, X2_nan, X3_dummy], axis=1)\n",
    "clf = LogisticRegression()"
   ]
  },
  {
   "cell_type": "code",
   "execution_count": 129,
   "metadata": {
    "collapsed": false
   },
   "outputs": [
    {
     "name": "stdout",
     "output_type": "stream",
     "text": [
      "ROC-AUC: 0.720511326158\n",
      "PR-AUC: 0.186360803707\n",
      "Precission: 0.355062845651\n",
      "Recall: 0.00840054142462\n"
     ]
    }
   ],
   "source": [
    "# попробуем 200 лучших переменных\n",
    "kb100 = SelectKBest(k=100).fit(X4, labels)\n",
    "roc_auc, pr_auc, precision, recall, models = get_cv_roc_pr_rc(clf, skf, X4.ix[:, kb100.get_support()], labels)"
   ]
  },
  {
   "cell_type": "code",
   "execution_count": 9,
   "metadata": {
    "collapsed": false
   },
   "outputs": [
    {
     "name": "stderr",
     "output_type": "stream",
     "text": [
      "/Users/yuri/anaconda/lib/python2.7/site-packages/sklearn/feature_selection/univariate_selection.py:113: UserWarning: Features [106 220 236 275] are constant.\n",
      "  UserWarning)\n",
      "/Users/yuri/anaconda/lib/python2.7/site-packages/sklearn/feature_selection/univariate_selection.py:114: RuntimeWarning: invalid value encountered in divide\n",
      "  f = msb / msw\n"
     ]
    },
    {
     "name": "stdout",
     "output_type": "stream",
     "text": [
      "ROC-AUC: 0.723131504467\n",
      "PR-AUC: 0.192205919983\n",
      "Precission: 0.403174603175\n",
      "Recall: 0.0120952004963\n"
     ]
    }
   ],
   "source": [
    "# попробуем 300 лучших переменных\n",
    "kb300 = SelectKBest(k=300).fit(X4, labels)\n",
    "roc_auc, pr_auc, precision, recall, models = get_cv_roc_pr_rc(clf, skf, X4.ix[:, kb300.get_support()], labels)"
   ]
  },
  {
   "cell_type": "code",
   "execution_count": 131,
   "metadata": {
    "collapsed": false
   },
   "outputs": [
    {
     "name": "stdout",
     "output_type": "stream",
     "text": [
      "ROC-AUC: 0.721899869788\n",
      "PR-AUC: 0.189786473114\n",
      "Precission: 0.381729323308\n",
      "Recall: 0.0120957644803\n"
     ]
    }
   ],
   "source": [
    "# попробуем 400 лучших переменных\n",
    "kb400 = SelectKBest(k=400).fit(X4, labels)\n",
    "roc_auc, pr_auc, precision, recall, models = get_cv_roc_pr_rc(clf, skf, X4.ix[:, kb400.get_support()], labels)"
   ]
  },
  {
   "cell_type": "markdown",
   "metadata": {},
   "source": [
    "Обучим классикатор с L1 регуляризатором у которого подберем коэффициент регуляризации по кросс-валидации. Используя науилучший классификатор отберем признаки. Обучим классификатор с отобранными признаками и проверим метрики:"
   ]
  },
  {
   "cell_type": "code",
   "execution_count": 181,
   "metadata": {
    "collapsed": false,
    "scrolled": true
   },
   "outputs": [
    {
     "data": {
      "text/plain": [
       "119"
      ]
     },
     "execution_count": 181,
     "metadata": {},
     "output_type": "execute_result"
    }
   ],
   "source": [
    "# подбираем оптимальное значение коэффициента регуляризации\n",
    "lr_l1 = LogisticRegressionCV(penalty='l1', solver='liblinear', cv=3, scoring='roc_auc').fit(X4, labels)\n",
    "X_lr = SelectFromModel(lr_l1, prefit=True).transform(X4)\n",
    "# осталось признаков\n",
    "X_lr.shape[1]"
   ]
  },
  {
   "cell_type": "code",
   "execution_count": 182,
   "metadata": {
    "collapsed": false
   },
   "outputs": [
    {
     "name": "stdout",
     "output_type": "stream",
     "text": [
      "ROC-AUC: 0.721436213958\n",
      "PR-AUC: 0.18590226433\n",
      "Precission: 0.339760348584\n",
      "Recall: 0.009407816818\n"
     ]
    }
   ],
   "source": [
    "clf = LogisticRegression()\n",
    "roc_auc, pr_auc, precision, recall, models = get_cv_roc_pr_rc(clf, skf, pd.DataFrame(X_lr), labels)"
   ]
  },
  {
   "cell_type": "markdown",
   "metadata": {},
   "source": [
    "Оба метода имеют право на жизнь. Первый оставил 300 переменных, второй 119. Качество примерно одинаковое."
   ]
  },
  {
   "cell_type": "markdown",
   "metadata": {},
   "source": [
    "## 6. Настройка гиперпараметров\n",
    "*Подберите оптимальные параметры модели. Обратите внимание, что в зависимости от того, как вы обработали исходные данные, сделали ли балансировку классов, сколько объектов оставили в обучающей выборке и др. оптимальные значения параметров могут меняться. Возьмите наилучшее из ваших решений на текущий момент и проведите процедуру подбора параметров модели (обратите внимание на `sklearn.model_selection.GridSearchCV`). Как подбор параметров повлиял на качество модели?*"
   ]
  },
  {
   "cell_type": "markdown",
   "metadata": {},
   "source": [
    "У логистической регресси, которая была использована выше только один гиперпараметр. Подберем гиперпараметры для xgboost классификатора обучая его по сетке возможных значений:"
   ]
  },
  {
   "cell_type": "code",
   "execution_count": null,
   "metadata": {
    "collapsed": true
   },
   "outputs": [],
   "source": [
    "# оставляем эти признаки\n",
    "X5 = X4.ix[:, kb300.get_support()]"
   ]
  },
  {
   "cell_type": "code",
   "execution_count": 10,
   "metadata": {
    "collapsed": false
   },
   "outputs": [
    {
     "name": "stdout",
     "output_type": "stream",
     "text": [
      "Fitting 3 folds for each of 12 candidates, totalling 36 fits\n"
     ]
    },
    {
     "name": "stderr",
     "output_type": "stream",
     "text": [
      "[Parallel(n_jobs=-1)]: Done  36 out of  36 | elapsed:  4.0min finished\n"
     ]
    },
    {
     "data": {
      "text/plain": [
       "GridSearchCV(cv=3, error_score='raise',\n",
       "       estimator=XGBClassifier(base_score=0.5, colsample_bylevel=1, colsample_bytree=1,\n",
       "       gamma=0, learning_rate=0.1, max_delta_step=0, max_depth=3,\n",
       "       min_child_weight=1, missing=None, n_estimators=100, nthread=-1,\n",
       "       objective='binary:logistic', reg_alpha=0, reg_lambda=1,\n",
       "       scale_pos_weight=1, seed=0, silent=True, subsample=1),\n",
       "       fit_params={}, iid=True, n_jobs=-1,\n",
       "       param_grid={'subsample': [0.8, 1.0], 'learning_rate': [0.05, 0.1], 'max_depth': [2, 3, 4]},\n",
       "       pre_dispatch='2*n_jobs', refit=True, return_train_score=True,\n",
       "       scoring='roc_auc', verbose=1)"
      ]
     },
     "execution_count": 10,
     "metadata": {},
     "output_type": "execute_result"
    }
   ],
   "source": [
    "# попробуем xgboost\n",
    "bst = xgb.XGBClassifier(n_estimators=100)\n",
    "params = {'max_depth': [2, 3, 4],\n",
    "          'learning_rate': [0.05, 0.1],\n",
    "          'subsample': [0.8, 1.0]}\n",
    "\n",
    "xgb_grid = GridSearchCV(bst, params, scoring = 'roc_auc', cv=3, n_jobs=-1, verbose=1)\n",
    "\n",
    "xgb_grid.fit(X5, labels)"
   ]
  },
  {
   "cell_type": "code",
   "execution_count": 14,
   "metadata": {
    "collapsed": false
   },
   "outputs": [
    {
     "data": {
      "text/html": [
       "<div>\n",
       "<table border=\"1\" class=\"dataframe\">\n",
       "  <thead>\n",
       "    <tr style=\"text-align: right;\">\n",
       "      <th></th>\n",
       "      <th>mean_test_score</th>\n",
       "      <th>mean_train_score</th>\n",
       "      <th>param_learning_rate</th>\n",
       "      <th>param_max_depth</th>\n",
       "      <th>param_subsample</th>\n",
       "    </tr>\n",
       "  </thead>\n",
       "  <tbody>\n",
       "    <tr>\n",
       "      <th>0</th>\n",
       "      <td>0.731584</td>\n",
       "      <td>0.744176</td>\n",
       "      <td>0.05</td>\n",
       "      <td>2</td>\n",
       "      <td>0.8</td>\n",
       "    </tr>\n",
       "    <tr>\n",
       "      <th>1</th>\n",
       "      <td>0.730872</td>\n",
       "      <td>0.743953</td>\n",
       "      <td>0.05</td>\n",
       "      <td>2</td>\n",
       "      <td>1</td>\n",
       "    </tr>\n",
       "    <tr>\n",
       "      <th>2</th>\n",
       "      <td>0.738310</td>\n",
       "      <td>0.763459</td>\n",
       "      <td>0.05</td>\n",
       "      <td>3</td>\n",
       "      <td>0.8</td>\n",
       "    </tr>\n",
       "    <tr>\n",
       "      <th>3</th>\n",
       "      <td>0.738392</td>\n",
       "      <td>0.762963</td>\n",
       "      <td>0.05</td>\n",
       "      <td>3</td>\n",
       "      <td>1</td>\n",
       "    </tr>\n",
       "    <tr>\n",
       "      <th>4</th>\n",
       "      <td>0.739874</td>\n",
       "      <td>0.786612</td>\n",
       "      <td>0.05</td>\n",
       "      <td>4</td>\n",
       "      <td>0.8</td>\n",
       "    </tr>\n",
       "    <tr>\n",
       "      <th>5</th>\n",
       "      <td>0.739521</td>\n",
       "      <td>0.785658</td>\n",
       "      <td>0.05</td>\n",
       "      <td>4</td>\n",
       "      <td>1</td>\n",
       "    </tr>\n",
       "    <tr>\n",
       "      <th>6</th>\n",
       "      <td>0.739928</td>\n",
       "      <td>0.760543</td>\n",
       "      <td>0.1</td>\n",
       "      <td>2</td>\n",
       "      <td>0.8</td>\n",
       "    </tr>\n",
       "    <tr>\n",
       "      <th>7</th>\n",
       "      <td>0.738877</td>\n",
       "      <td>0.759919</td>\n",
       "      <td>0.1</td>\n",
       "      <td>2</td>\n",
       "      <td>1</td>\n",
       "    </tr>\n",
       "    <tr>\n",
       "      <th>8</th>\n",
       "      <td>0.742242</td>\n",
       "      <td>0.789400</td>\n",
       "      <td>0.1</td>\n",
       "      <td>3</td>\n",
       "      <td>0.8</td>\n",
       "    </tr>\n",
       "    <tr>\n",
       "      <th>9</th>\n",
       "      <td>0.740924</td>\n",
       "      <td>0.787722</td>\n",
       "      <td>0.1</td>\n",
       "      <td>3</td>\n",
       "      <td>1</td>\n",
       "    </tr>\n",
       "    <tr>\n",
       "      <th>10</th>\n",
       "      <td>0.740338</td>\n",
       "      <td>0.828623</td>\n",
       "      <td>0.1</td>\n",
       "      <td>4</td>\n",
       "      <td>0.8</td>\n",
       "    </tr>\n",
       "    <tr>\n",
       "      <th>11</th>\n",
       "      <td>0.740655</td>\n",
       "      <td>0.822025</td>\n",
       "      <td>0.1</td>\n",
       "      <td>4</td>\n",
       "      <td>1</td>\n",
       "    </tr>\n",
       "  </tbody>\n",
       "</table>\n",
       "</div>"
      ],
      "text/plain": [
       "    mean_test_score  mean_train_score param_learning_rate param_max_depth  \\\n",
       "0          0.731584          0.744176                0.05               2   \n",
       "1          0.730872          0.743953                0.05               2   \n",
       "2          0.738310          0.763459                0.05               3   \n",
       "3          0.738392          0.762963                0.05               3   \n",
       "4          0.739874          0.786612                0.05               4   \n",
       "5          0.739521          0.785658                0.05               4   \n",
       "6          0.739928          0.760543                 0.1               2   \n",
       "7          0.738877          0.759919                 0.1               2   \n",
       "8          0.742242          0.789400                 0.1               3   \n",
       "9          0.740924          0.787722                 0.1               3   \n",
       "10         0.740338          0.828623                 0.1               4   \n",
       "11         0.740655          0.822025                 0.1               4   \n",
       "\n",
       "   param_subsample  \n",
       "0              0.8  \n",
       "1                1  \n",
       "2              0.8  \n",
       "3                1  \n",
       "4              0.8  \n",
       "5                1  \n",
       "6              0.8  \n",
       "7                1  \n",
       "8              0.8  \n",
       "9                1  \n",
       "10             0.8  \n",
       "11               1  "
      ]
     },
     "execution_count": 14,
     "metadata": {},
     "output_type": "execute_result"
    }
   ],
   "source": [
    "pd.DataFrame(xgb_grid.cv_results_).ix[:, 2:7]"
   ]
  },
  {
   "cell_type": "code",
   "execution_count": 12,
   "metadata": {
    "collapsed": false
   },
   "outputs": [
    {
     "data": {
      "text/plain": [
       "{'learning_rate': 0.1, 'max_depth': 3, 'subsample': 0.8}"
      ]
     },
     "execution_count": 12,
     "metadata": {},
     "output_type": "execute_result"
    }
   ],
   "source": [
    "# оптимальные параметры\n",
    "xgb_grid.best_params_"
   ]
  },
  {
   "cell_type": "markdown",
   "metadata": {},
   "source": [
    "Таким образом, мы обучили классификатор с оптимальными параметрами. На данный момент она показала максимальное качество."
   ]
  },
  {
   "cell_type": "markdown",
   "metadata": {},
   "source": [
    "## 7. Влияние признаков на модель\n",
    "*Предложите методику оценки того, какие признаки внесли наибольший вклад в модель (например, это могут быть веса в случае регрессии, а также большое количество моделей реализуют метод `feature_importances_` - оценка важности признаков). На основе предложенной методики проанализируйте, какие признаки внесли больший вклад в модель, а какие меньший?*"
   ]
  },
  {
   "cell_type": "markdown",
   "metadata": {
    "collapsed": true
   },
   "source": [
    "Воспользуемся оценкой важности признаков классификатора xgboost:"
   ]
  },
  {
   "cell_type": "code",
   "execution_count": 28,
   "metadata": {
    "collapsed": false,
    "scrolled": false
   },
   "outputs": [
    {
     "data": {
      "image/png": "[encoded data removed]",
      "text/plain": [
       "<matplotlib.figure.Figure at 0x11563cb90>"
      ]
     },
     "metadata": {},
     "output_type": "display_data"
    }
   ],
   "source": [
    "fig, ax = plt.subplots(figsize=(12, 16))\n",
    "plot_importance(xgb_grid.best_estimator_, ax=ax)\n",
    "pyplot.show()"
   ]
  },
  {
   "cell_type": "markdown",
   "metadata": {},
   "source": [
    "По оценке xgboost из 10 наиболее важных признаков, 8 являются числовыми."
   ]
  },
  {
   "cell_type": "markdown",
   "metadata": {},
   "source": [
    "## 8. Анализ ошибок классификации\n",
    "*Напоследок давайте посмотрим на объекты. На каких объектах достигается наибольшая ошибка классификации? Есть ли межу этими объектами что-то общее? Видны ли какие-либо закономерности? Предположите, почему наибольшая ошибка достигается именно на этих объектах. В данном случае \"наибольшую\" ошибку можно понимать как отнесение объекта с чужому классу с большой долей уверенности (с высокой вероятностью).*"
   ]
  },
  {
   "cell_type": "markdown",
   "metadata": {},
   "source": [
    "Посмотрим на распределения по вероятностям:"
   ]
  },
  {
   "cell_type": "code",
   "execution_count": 127,
   "metadata": {
    "collapsed": false
   },
   "outputs": [
    {
     "data": {
      "image/png": "[encoded data removed]",
      "text/plain": [
       "<matplotlib.figure.Figure at 0x115a61190>"
      ]
     },
     "metadata": {},
     "output_type": "display_data"
    }
   ],
   "source": [
    "fig, ax = plt.subplots(figsize=(12, 6))\n",
    "\n",
    "pred = pd.Series(xgb_grid.best_estimator_.predict_proba(X5)[:,1])\n",
    "# гистограмма отклонений от истинных значений\n",
    "sns.kdeplot(pred[labels == 0], color = 'r', ax=ax, label=0)\n",
    "sns.kdeplot(pred[labels == 1], color = 'b', ax=ax, label=1)\n",
    "plt.ylabel(u'Частота')\n",
    "plt.xlabel(u'Вероятность')\n",
    "plt.show()"
   ]
  },
  {
   "cell_type": "markdown",
   "metadata": {},
   "source": [
    "Большинству объектов положительного класса предсказываются маленькие вероятности (до 0.2). Сравим средние значения по важным (по мнению xgboost) признакам для явно ошибочных предсказаний и для более-менее правдоподобных. Сравним разницу:"
   ]
  },
  {
   "cell_type": "code",
   "execution_count": 182,
   "metadata": {
    "collapsed": false
   },
   "outputs": [
    {
     "data": {
      "text/html": [
       "<div>\n",
       "<table border=\"1\" class=\"dataframe\">\n",
       "  <thead>\n",
       "    <tr style=\"text-align: right;\">\n",
       "      <th></th>\n",
       "      <th>means_high</th>\n",
       "      <th>means_low</th>\n",
       "      <th>abs_diff</th>\n",
       "    </tr>\n",
       "  </thead>\n",
       "  <tbody>\n",
       "    <tr>\n",
       "      <th>172</th>\n",
       "      <td>-0.849364</td>\n",
       "      <td>0.096011</td>\n",
       "      <td>0.945375</td>\n",
       "    </tr>\n",
       "    <tr>\n",
       "      <th>62</th>\n",
       "      <td>-0.623568</td>\n",
       "      <td>0.253188</td>\n",
       "      <td>0.876756</td>\n",
       "    </tr>\n",
       "    <tr>\n",
       "      <th>6</th>\n",
       "      <td>-0.622790</td>\n",
       "      <td>0.224740</td>\n",
       "      <td>0.847531</td>\n",
       "    </tr>\n",
       "    <tr>\n",
       "      <th>101</th>\n",
       "      <td>0.610615</td>\n",
       "      <td>-0.152397</td>\n",
       "      <td>0.763011</td>\n",
       "    </tr>\n",
       "    <tr>\n",
       "      <th>131</th>\n",
       "      <td>-0.419862</td>\n",
       "      <td>0.318993</td>\n",
       "      <td>0.738856</td>\n",
       "    </tr>\n",
       "    <tr>\n",
       "      <th>69</th>\n",
       "      <td>0.555431</td>\n",
       "      <td>-0.070366</td>\n",
       "      <td>0.625796</td>\n",
       "    </tr>\n",
       "    <tr>\n",
       "      <th>11</th>\n",
       "      <td>-0.364357</td>\n",
       "      <td>0.142655</td>\n",
       "      <td>0.507013</td>\n",
       "    </tr>\n",
       "    <tr>\n",
       "      <th>54</th>\n",
       "      <td>-0.279029</td>\n",
       "      <td>0.174376</td>\n",
       "      <td>0.453405</td>\n",
       "    </tr>\n",
       "    <tr>\n",
       "      <th>Var218_cJvF</th>\n",
       "      <td>0.123077</td>\n",
       "      <td>0.549180</td>\n",
       "      <td>0.426103</td>\n",
       "    </tr>\n",
       "    <tr>\n",
       "      <th>Var212_NhsEn4L</th>\n",
       "      <td>0.869231</td>\n",
       "      <td>0.453552</td>\n",
       "      <td>0.415679</td>\n",
       "    </tr>\n",
       "    <tr>\n",
       "      <th>119</th>\n",
       "      <td>-0.018990</td>\n",
       "      <td>0.368487</td>\n",
       "      <td>0.387477</td>\n",
       "    </tr>\n",
       "    <tr>\n",
       "      <th>Var218_fakenan</th>\n",
       "      <td>0.380769</td>\n",
       "      <td>0.000000</td>\n",
       "      <td>0.380769</td>\n",
       "    </tr>\n",
       "    <tr>\n",
       "      <th>Var228_F2FyR07IdsN7I</th>\n",
       "      <td>0.896154</td>\n",
       "      <td>0.532787</td>\n",
       "      <td>0.363367</td>\n",
       "    </tr>\n",
       "    <tr>\n",
       "      <th>Var229_fakenan</th>\n",
       "      <td>0.853846</td>\n",
       "      <td>0.497268</td>\n",
       "      <td>0.356578</td>\n",
       "    </tr>\n",
       "    <tr>\n",
       "      <th>61</th>\n",
       "      <td>-0.227913</td>\n",
       "      <td>0.120274</td>\n",
       "      <td>0.348187</td>\n",
       "    </tr>\n",
       "  </tbody>\n",
       "</table>\n",
       "</div>"
      ],
      "text/plain": [
       "                      means_high  means_low  abs_diff\n",
       "172                    -0.849364   0.096011  0.945375\n",
       "62                     -0.623568   0.253188  0.876756\n",
       "6                      -0.622790   0.224740  0.847531\n",
       "101                     0.610615  -0.152397  0.763011\n",
       "131                    -0.419862   0.318993  0.738856\n",
       "69                      0.555431  -0.070366  0.625796\n",
       "11                     -0.364357   0.142655  0.507013\n",
       "54                     -0.279029   0.174376  0.453405\n",
       "Var218_cJvF             0.123077   0.549180  0.426103\n",
       "Var212_NhsEn4L          0.869231   0.453552  0.415679\n",
       "119                    -0.018990   0.368487  0.387477\n",
       "Var218_fakenan          0.380769   0.000000  0.380769\n",
       "Var228_F2FyR07IdsN7I    0.896154   0.532787  0.363367\n",
       "Var229_fakenan          0.853846   0.497268  0.356578\n",
       "61                     -0.227913   0.120274  0.348187"
      ]
     },
     "execution_count": 182,
     "metadata": {},
     "output_type": "execute_result"
    }
   ],
   "source": [
    "idx_low = pred[(pred < 0.05) & (labels == 1)].index\n",
    "idx_high = pred[(pred > 0.3) & (labels == 1)].index\n",
    "\n",
    "means_low = X5.ix[idx_low, (xgb_grid.best_estimator_.feature_importances_ != 0).tolist()].mean()\n",
    "means_high = X5.ix[idx_high, (xgb_grid.best_estimator_.feature_importances_ != 0).tolist()].mean()\n",
    "\n",
    "diff = pd.DataFrame(dict(means_low = means_low, means_high = means_high))\n",
    "diff['abs_diff'] = abs(diff['means_high'] - diff['means_low'])\n",
    "diff.sort_values('abs_diff', ascending=False)[:15]"
   ]
  },
  {
   "cell_type": "markdown",
   "metadata": {},
   "source": [
    "Как видно из таблицы, наши признаки недостаточно хороши, чтобы отделять один хвостик распределения от другуго. Возможно, придумывание новых признаков могло бы помочь."
   ]
  },
  {
   "cell_type": "markdown",
   "metadata": {},
   "source": [
    "## 9. Финальная модель\n",
    "*По итогам проведенных экспериментов постройте финальную решение - модель с наилучшим качеством. Укажите, какие преобразования данных, параметры и пр. вы выбрали для построения финальной модели.*"
   ]
  },
  {
   "cell_type": "markdown",
   "metadata": {
    "collapsed": true
   },
   "source": [
    "Для финального решения я бы оставил классификатор xgboost. Пропуски в числовых переменных заменил бы медианой и составил дамми-признаки пропусков. Категориальные переменные можно тоже перевести в дамми или (аккуратно) перевести в средние по целевой переменной. Отбор признаков провести с помощью оценки важности признаков xgboost или SelectKBest."
   ]
  },
  {
   "cell_type": "markdown",
   "metadata": {},
   "source": [
    "## 10. Подумайте, можно ли еще улучшить модель? Что для этого можно сделать? "
   ]
  },
  {
   "cell_type": "markdown",
   "metadata": {
    "collapsed": true
   },
   "source": [
    "Модели может помочь создание новых признаков (например, взаимодействие категорий). Так же можно объединить разные модели в ансамбль."
   ]
  },
  {
   "cell_type": "code",
   "execution_count": null,
   "metadata": {
    "collapsed": true
   },
   "outputs": [],
   "source": []
  }
 ],
 "metadata": {
  "kernelspec": {
   "display_name": "Python 2",
   "language": "python",
   "name": "python2"
  },
  "language_info": {
   "codemirror_mode": {
    "name": "ipython",
    "version": 2
   },
   "file_extension": ".py",
   "mimetype": "text/x-python",
   "name": "python",
   "nbconvert_exporter": "python",
   "pygments_lexer": "ipython2",
   "version": "2.7.11"
  }
 },
 "nbformat": 4,
 "nbformat_minor": 0
}
