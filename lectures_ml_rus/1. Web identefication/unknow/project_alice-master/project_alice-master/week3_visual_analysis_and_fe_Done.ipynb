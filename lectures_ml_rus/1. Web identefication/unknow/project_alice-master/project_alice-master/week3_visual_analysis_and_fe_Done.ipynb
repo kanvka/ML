{
 "cells": [
  {
   "cell_type": "markdown",
   "metadata": {},
   "source": [
    "<center>\n",
    "<img src=\"https://habrastorage.org/web/677/8e1/337/6778e1337c3d4b159d7e99df94227cb2.jpg\"/>\n",
    "## Специализация \"Машинное обучение и анализ данных\"\n",
    "</center>\n",
    "<center>Автор материала: программист-исследователь Mail.ru Group, старший преподаватель Факультета Компьютерных Наук ВШЭ Юрий Кашницкий"
   ]
  },
  {
   "cell_type": "markdown",
   "metadata": {},
   "source": [
    "# <center>  Capstone проект №1. Идентификация пользователей по посещенным веб-страницам\n",
    "<img src='http://i.istockimg.com/file_thumbview_approve/21546327/5/stock-illustration-21546327-identification-de-l-utilisateur.jpg'>\n",
    "\n",
    "# <center>Неделя 3. Визуальный анализ данных и построение признаков\n",
    "\n",
    "На 3 неделе мы займемся визуальным анализом данных и построением признаков. Сначала мы вместе построим и проанализируем несколько признаков, потом Вы сможете сами придумать и описать различные признаки. \n",
    "\n",
    "**План 3 недели:**\n",
    " - Часть 1. Построение признаков\n",
    " - Часть 2. Визуальный анализ данных\n",
    " - Часть 3. Дальнейшее построение признаков\n",
    " - Часть 4. Проверка построенных признаков\n",
    "\n",
    "**В этой части проекта Вам могут быть полезны видеозаписи следующих лекций курса \"Поиск структуры в данных\":**\n",
    "   - [Задача визуализации](https://www.coursera.org/learn/unsupervised-learning/lecture/hlvlT/zadacha-vizualizatsii)\n",
    "   - [Визуализация данных в sklearn](https://www.coursera.org/learn/unsupervised-learning/lecture/ityMo/vizualizatsiia-dannykh-v-sklearn)\n",
    "   \n",
    "**Также в задании будет использоваться библиотека Seaborn (ее можно дополнительно установить командой *pip install seaborn*), будет полезно обращаться к документациям [Matplotlib](http://matplotlib.org/users/) и [Seaborn](http://seaborn.pydata.org/), а также к примерам визуализации, описанным на StackOverflow.**\n",
    "\n"
   ]
  },
  {
   "cell_type": "markdown",
   "metadata": {},
   "source": [
    "<font color='red'>**Задание:**</font> заполните код в этой тетрадке и выберите ответы в [веб-форме](https://docs.google.com/forms/d/1EbjK7-hF-Gepi6RH-K5I2XeiYGRoY0LNDx03QmLu9Xo). "
   ]
  },
  {
   "cell_type": "markdown",
   "metadata": {},
   "source": [
    "## Часть 1. Построение признаков"
   ]
  },
  {
   "cell_type": "code",
   "execution_count": 1,
   "metadata": {
    "collapsed": true
   },
   "outputs": [],
   "source": [
    "from __future__ import division, print_function\n",
    "# отключим всякие предупреждения Anaconda\n",
    "import warnings\n",
    "warnings.filterwarnings('ignore')\n",
    "from glob import glob\n",
    "import os\n",
    "from tqdm import tqdm_notebook\n",
    "import numpy as np\n",
    "import pandas as pd\n",
    "pd.set_option('display.max.columns', 25)\n",
    "import pickle\n",
    "#pip install seaborn\n",
    "import seaborn as sns\n",
    "%matplotlib inline\n",
    "from matplotlib import pyplot as plt"
   ]
  },
  {
   "cell_type": "code",
   "execution_count": 2,
   "metadata": {
    "collapsed": true
   },
   "outputs": [],
   "source": [
    "# Поменяйте на свой путь к данным\n",
    "PATH_TO_DATA = '../../data/kagle'"
   ]
  },
  {
   "cell_type": "markdown",
   "metadata": {},
   "source": [
    "**Создайте на основе функций *prepare_train_set* и *prepare_sparse_train_set_window*  новую – *prepare_train_set_with_fe*, (от \"feature engineering\"), создайте следующие признаки:**\n",
    "- `session_timespan` – продолжительность сессии (разница между максимальным и минимальным временем посещения сайтов в сессии, в секундах)\n",
    "- `#unique_sites` – число уникальных сайтов в сессии \n",
    "- `start_hour` – час начала сессии (то есть час в записи минимального timestamp среди десяти)\n",
    "- `day_of_week` – день недели (то есть день недели в записи минимального timestamp среди десяти)\n",
    "\n",
    "Функция должна возвращать новый DataFrame (как возвращала функция *prepare_train_set*), только признаков должно быть на 4 больше. Порядок, в котором добавляются признаки: *site1*, ... *site10*, *session_timespan*, *#unique_sites*, *start_hour*, *day_of_week* и *user_id* (это видно и чуть ниже по тому, как функция вызывается)."
   ]
  },
  {
   "cell_type": "code",
   "execution_count": 3,
   "metadata": {
    "collapsed": true
   },
   "outputs": [],
   "source": [
    "import glob as gl\n",
    "import datetime\n",
    "import re"
   ]
  },
  {
   "cell_type": "code",
   "execution_count": 67,
   "metadata": {
    "collapsed": false
   },
   "outputs": [],
   "source": [
    "def prepare_train_set_with_fe(path_to_csv_files, site_freq_path, feature_names,\n",
    "                                    session_length=10, window_size=10):\n",
    "    files = gl.glob(path_to_csv_files + \"/*.csv\")\n",
    "    data = []\n",
    "    user_id = 1\n",
    "    y = []\n",
    "    session_timespan = []\n",
    "    uniq_sites = []\n",
    "    start_hour = []\n",
    "    day_of_week = []\n",
    "    with open( site_freq_path, 'rb') as f:\n",
    "        site_dict = pickle.load(f)\n",
    "    for f in files:\n",
    "        match = re.search(r'user[0]*([1-9][0-9]*)', f)\n",
    "        user_id = int(match.group(1))\n",
    "        #print(user_id)\n",
    "        df = pd.read_csv(f)\n",
    "        df.timestamp = df.timestamp.apply(pd.to_datetime)\n",
    "   \n",
    "        session_num = df.shape[0]// session_length + 1\n",
    "        left_edge = 0\n",
    "        right_edge = session_length if session_length < df.shape[0] else df.shape[0]\n",
    "        time_stamps = df.timestamp.apply(lambda ts: ts.timestamp()).values.reshape((df.shape[0],1))\n",
    "        \n",
    "        while(left_edge < df.shape[0]):\n",
    "            temp_site = np.asarray(site_id_list[left_edge: right_edge]) if (right_edge - left_edge) == session_length else \\\n",
    "                        np.append(site_id_list[left_edge: right_edge], np.zeros(session_length - (right_edge - left_edge)))\n",
    "            temp_time_diff = time_stamps[left_edge + 1:right_edge,0] - time_stamps[left_edge:right_edge -1,0]\n",
    "            #print(temp_time_diff)\n",
    "            temp_time_diff = temp_time_diff.astype(int) \\\n",
    "                            if (right_edge - left_edge) == session_length else \\\n",
    "                   np.append(temp_time_diff.astype(int), np.zeros(session_length - (right_edge - left_edge)))\n",
    "            data.append(np.append(temp_site,temp_time_diff ))\n",
    "            \n",
    "            session_timespan.append(time_stamps[left_edge: right_edge].max(axis = 0) - time_stamps[left_edge: right_edge].min(axis = 0) )\n",
    "            uniq_sites.append(np.unique(temp_site).shape[0])\n",
    "            min_timestamp = datetime.datetime.fromtimestamp(int(time_stamps[left_edge,0]))\n",
    "            start_hour.append(min_timestamp.hour)\n",
    "            day_of_week.append(min_timestamp.weekday())\n",
    "            y.append(user_id) \n",
    "            left_edge += window_size\n",
    "            right_edge = (right_edge + window_size) if (right_edge + window_size) < df.shape[0] else df.shape[0]\n",
    "        \n",
    "        #user_id +=1 \n",
    "    \n",
    "    X = np.c_[np.asarray(data),np.asarray(session_timespan), np.asarray(uniq_sites), np.asarray(start_hour) \\\n",
    "               , np.asarray(day_of_week), np.asarray(y)]\n",
    "    train_df = pd.DataFrame(data = X, columns = feature_names)\n",
    "    \n",
    "    train_df = train_df.astype(int)\n",
    " \n",
    "    return train_df"
   ]
  },
  {
   "cell_type": "markdown",
   "metadata": {},
   "source": [
    "**Проверим функцию на игрушечном примере.**"
   ]
  },
  {
   "cell_type": "code",
   "execution_count": 65,
   "metadata": {
    "collapsed": false
   },
   "outputs": [
    {
     "name": "stdout",
     "output_type": "stream",
     "text": [
      "1\n",
      "2\n",
      "3\n"
     ]
    }
   ],
   "source": [
    "feature_names = ['site' + str(i) for i in range(1,11)] + \\\n",
    "                ['time_diff' + str(j) for j in range(1,10)] + \\\n",
    "                ['session_timespan', '#unique_sites', 'start_hour', \n",
    "                 'day_of_week', 'target']\n",
    "train_data_toy  = prepare_train_set_with_fe(os.path.join(PATH_TO_DATA, \n",
    "                                                         '3users'), \n",
    "                  site_freq_path=os.path.join(PATH_TO_DATA, \n",
    "                                              'site_freq_3users.pkl'),\n",
    "                  feature_names=feature_names, session_length=10)"
   ]
  },
  {
   "cell_type": "code",
   "execution_count": 57,
   "metadata": {
    "collapsed": false
   },
   "outputs": [
    {
     "data": {
      "text/plain": [
       "'31'"
      ]
     },
     "execution_count": 57,
     "metadata": {},
     "output_type": "execute_result"
    }
   ],
   "source": [
    "st = r'../../data/kagle\\3users\\user0031.csv'\n",
    "match = re.search(r'user[0]*([1-9][0-9]*)', st)\n",
    "match.group(1)"
   ]
  },
  {
   "cell_type": "code",
   "execution_count": 47,
   "metadata": {
    "collapsed": false
   },
   "outputs": [
    {
     "data": {
      "text/html": [
       "<div>\n",
       "<table border=\"1\" class=\"dataframe\">\n",
       "  <thead>\n",
       "    <tr style=\"text-align: right;\">\n",
       "      <th></th>\n",
       "      <th>site1</th>\n",
       "      <th>site2</th>\n",
       "      <th>site3</th>\n",
       "      <th>site4</th>\n",
       "      <th>site5</th>\n",
       "      <th>site6</th>\n",
       "      <th>site7</th>\n",
       "      <th>site8</th>\n",
       "      <th>site9</th>\n",
       "      <th>site10</th>\n",
       "      <th>time_diff1</th>\n",
       "      <th>time_diff2</th>\n",
       "      <th>time_diff3</th>\n",
       "      <th>time_diff4</th>\n",
       "      <th>time_diff5</th>\n",
       "      <th>time_diff6</th>\n",
       "      <th>time_diff7</th>\n",
       "      <th>time_diff8</th>\n",
       "      <th>time_diff9</th>\n",
       "      <th>session_timespan</th>\n",
       "      <th>#unique_sites</th>\n",
       "      <th>start_hour</th>\n",
       "      <th>day_of_week</th>\n",
       "      <th>target</th>\n",
       "    </tr>\n",
       "  </thead>\n",
       "  <tbody>\n",
       "    <tr>\n",
       "      <th>0</th>\n",
       "      <td>1</td>\n",
       "      <td>2</td>\n",
       "      <td>2</td>\n",
       "      <td>3</td>\n",
       "      <td>2</td>\n",
       "      <td>4</td>\n",
       "      <td>5</td>\n",
       "      <td>6</td>\n",
       "      <td>7</td>\n",
       "      <td>8</td>\n",
       "      <td>287</td>\n",
       "      <td>1184</td>\n",
       "      <td>6278</td>\n",
       "      <td>186</td>\n",
       "      <td>2</td>\n",
       "      <td>1</td>\n",
       "      <td>2</td>\n",
       "      <td>3</td>\n",
       "      <td>55</td>\n",
       "      <td>7998</td>\n",
       "      <td>8</td>\n",
       "      <td>9</td>\n",
       "      <td>4</td>\n",
       "      <td>1</td>\n",
       "    </tr>\n",
       "    <tr>\n",
       "      <th>1</th>\n",
       "      <td>1</td>\n",
       "      <td>4</td>\n",
       "      <td>4</td>\n",
       "      <td>4</td>\n",
       "      <td>0</td>\n",
       "      <td>0</td>\n",
       "      <td>0</td>\n",
       "      <td>0</td>\n",
       "      <td>0</td>\n",
       "      <td>0</td>\n",
       "      <td>2</td>\n",
       "      <td>3</td>\n",
       "      <td>55</td>\n",
       "      <td>0</td>\n",
       "      <td>0</td>\n",
       "      <td>0</td>\n",
       "      <td>0</td>\n",
       "      <td>0</td>\n",
       "      <td>0</td>\n",
       "      <td>60</td>\n",
       "      <td>3</td>\n",
       "      <td>12</td>\n",
       "      <td>4</td>\n",
       "      <td>1</td>\n",
       "    </tr>\n",
       "    <tr>\n",
       "      <th>2</th>\n",
       "      <td>1</td>\n",
       "      <td>2</td>\n",
       "      <td>9</td>\n",
       "      <td>9</td>\n",
       "      <td>2</td>\n",
       "      <td>0</td>\n",
       "      <td>0</td>\n",
       "      <td>0</td>\n",
       "      <td>0</td>\n",
       "      <td>0</td>\n",
       "      <td>287</td>\n",
       "      <td>1184</td>\n",
       "      <td>6278</td>\n",
       "      <td>186</td>\n",
       "      <td>0</td>\n",
       "      <td>0</td>\n",
       "      <td>0</td>\n",
       "      <td>0</td>\n",
       "      <td>0</td>\n",
       "      <td>7935</td>\n",
       "      <td>4</td>\n",
       "      <td>9</td>\n",
       "      <td>4</td>\n",
       "      <td>1</td>\n",
       "    </tr>\n",
       "    <tr>\n",
       "      <th>3</th>\n",
       "      <td>10</td>\n",
       "      <td>4</td>\n",
       "      <td>2</td>\n",
       "      <td>4</td>\n",
       "      <td>2</td>\n",
       "      <td>4</td>\n",
       "      <td>4</td>\n",
       "      <td>6</td>\n",
       "      <td>11</td>\n",
       "      <td>10</td>\n",
       "      <td>287</td>\n",
       "      <td>1184</td>\n",
       "      <td>6278</td>\n",
       "      <td>186</td>\n",
       "      <td>2</td>\n",
       "      <td>1</td>\n",
       "      <td>2</td>\n",
       "      <td>3</td>\n",
       "      <td>55</td>\n",
       "      <td>7998</td>\n",
       "      <td>5</td>\n",
       "      <td>9</td>\n",
       "      <td>4</td>\n",
       "      <td>1</td>\n",
       "    </tr>\n",
       "    <tr>\n",
       "      <th>4</th>\n",
       "      <td>10</td>\n",
       "      <td>4</td>\n",
       "      <td>2</td>\n",
       "      <td>0</td>\n",
       "      <td>0</td>\n",
       "      <td>0</td>\n",
       "      <td>0</td>\n",
       "      <td>0</td>\n",
       "      <td>0</td>\n",
       "      <td>0</td>\n",
       "      <td>287</td>\n",
       "      <td>1184</td>\n",
       "      <td>0</td>\n",
       "      <td>0</td>\n",
       "      <td>0</td>\n",
       "      <td>0</td>\n",
       "      <td>0</td>\n",
       "      <td>0</td>\n",
       "      <td>0</td>\n",
       "      <td>1471</td>\n",
       "      <td>4</td>\n",
       "      <td>12</td>\n",
       "      <td>4</td>\n",
       "      <td>1</td>\n",
       "    </tr>\n",
       "  </tbody>\n",
       "</table>\n",
       "</div>"
      ],
      "text/plain": [
       "   site1  site2  site3  site4  site5  site6  site7  site8  site9  site10  \\\n",
       "0      1      2      2      3      2      4      5      6      7       8   \n",
       "1      1      4      4      4      0      0      0      0      0       0   \n",
       "2      1      2      9      9      2      0      0      0      0       0   \n",
       "3     10      4      2      4      2      4      4      6     11      10   \n",
       "4     10      4      2      0      0      0      0      0      0       0   \n",
       "\n",
       "   time_diff1  time_diff2  time_diff3  time_diff4  time_diff5  time_diff6  \\\n",
       "0         287        1184        6278         186           2           1   \n",
       "1           2           3          55           0           0           0   \n",
       "2         287        1184        6278         186           0           0   \n",
       "3         287        1184        6278         186           2           1   \n",
       "4         287        1184           0           0           0           0   \n",
       "\n",
       "   time_diff7  time_diff8  time_diff9  session_timespan  #unique_sites  \\\n",
       "0           2           3          55              7998              8   \n",
       "1           0           0           0                60              3   \n",
       "2           0           0           0              7935              4   \n",
       "3           2           3          55              7998              5   \n",
       "4           0           0           0              1471              4   \n",
       "\n",
       "   start_hour  day_of_week  target  \n",
       "0           9            4       1  \n",
       "1          12            4       1  \n",
       "2           9            4       1  \n",
       "3           9            4       1  \n",
       "4          12            4       1  "
      ]
     },
     "execution_count": 47,
     "metadata": {},
     "output_type": "execute_result"
    }
   ],
   "source": [
    "train_data_toy"
   ]
  },
  {
   "cell_type": "markdown",
   "metadata": {},
   "source": [
    "**Примените функцию *prepare_train_set_with_fe* к данным по 10 пользователям, укажите *session_length*=10.**"
   ]
  },
  {
   "cell_type": "code",
   "execution_count": 66,
   "metadata": {
    "collapsed": false
   },
   "outputs": [
    {
     "name": "stdout",
     "output_type": "stream",
     "text": [
      "31\n",
      "33\n",
      "39\n",
      "50\n",
      "100\n",
      "127\n",
      "128\n",
      "207\n",
      "237\n",
      "241\n",
      "Wall time: 34.9 s\n"
     ]
    }
   ],
   "source": [
    "%%time\n",
    "train_data_10users = prepare_train_set_with_fe(os.path.join(PATH_TO_DATA, \n",
    "                                                         '10users'), \n",
    "                  site_freq_path=os.path.join(PATH_TO_DATA, \n",
    "                                              'site_freq_10users.pkl'),\n",
    "                  feature_names=feature_names, session_length=10)"
   ]
  },
  {
   "cell_type": "code",
   "execution_count": 58,
   "metadata": {
    "collapsed": false
   },
   "outputs": [
    {
     "data": {
      "text/html": [
       "<div>\n",
       "<table border=\"1\" class=\"dataframe\">\n",
       "  <thead>\n",
       "    <tr style=\"text-align: right;\">\n",
       "      <th></th>\n",
       "      <th>site1</th>\n",
       "      <th>site2</th>\n",
       "      <th>site3</th>\n",
       "      <th>site4</th>\n",
       "      <th>site5</th>\n",
       "      <th>site6</th>\n",
       "      <th>site7</th>\n",
       "      <th>site8</th>\n",
       "      <th>site9</th>\n",
       "      <th>site10</th>\n",
       "      <th>time_diff1</th>\n",
       "      <th>time_diff2</th>\n",
       "      <th>time_diff3</th>\n",
       "      <th>time_diff4</th>\n",
       "      <th>time_diff5</th>\n",
       "      <th>time_diff6</th>\n",
       "      <th>time_diff7</th>\n",
       "      <th>time_diff8</th>\n",
       "      <th>time_diff9</th>\n",
       "      <th>session_timespan</th>\n",
       "      <th>#unique_sites</th>\n",
       "      <th>start_hour</th>\n",
       "      <th>day_of_week</th>\n",
       "      <th>target</th>\n",
       "    </tr>\n",
       "  </thead>\n",
       "  <tbody>\n",
       "    <tr>\n",
       "      <th>0</th>\n",
       "      <td>1</td>\n",
       "      <td>2</td>\n",
       "      <td>3</td>\n",
       "      <td>4</td>\n",
       "      <td>3</td>\n",
       "      <td>3</td>\n",
       "      <td>4</td>\n",
       "      <td>3</td>\n",
       "      <td>5</td>\n",
       "      <td>3</td>\n",
       "      <td>10</td>\n",
       "      <td>0</td>\n",
       "      <td>0</td>\n",
       "      <td>1</td>\n",
       "      <td>20</td>\n",
       "      <td>1</td>\n",
       "      <td>0</td>\n",
       "      <td>1</td>\n",
       "      <td>0</td>\n",
       "      <td>33</td>\n",
       "      <td>5</td>\n",
       "      <td>8</td>\n",
       "      <td>4</td>\n",
       "      <td>1</td>\n",
       "    </tr>\n",
       "    <tr>\n",
       "      <th>1</th>\n",
       "      <td>6</td>\n",
       "      <td>7</td>\n",
       "      <td>8</td>\n",
       "      <td>9</td>\n",
       "      <td>3</td>\n",
       "      <td>10</td>\n",
       "      <td>11</td>\n",
       "      <td>12</td>\n",
       "      <td>13</td>\n",
       "      <td>14</td>\n",
       "      <td>1</td>\n",
       "      <td>0</td>\n",
       "      <td>163</td>\n",
       "      <td>105</td>\n",
       "      <td>0</td>\n",
       "      <td>1</td>\n",
       "      <td>3</td>\n",
       "      <td>3</td>\n",
       "      <td>8</td>\n",
       "      <td>284</td>\n",
       "      <td>10</td>\n",
       "      <td>8</td>\n",
       "      <td>4</td>\n",
       "      <td>1</td>\n",
       "    </tr>\n",
       "    <tr>\n",
       "      <th>2</th>\n",
       "      <td>14</td>\n",
       "      <td>4</td>\n",
       "      <td>14</td>\n",
       "      <td>14</td>\n",
       "      <td>15</td>\n",
       "      <td>16</td>\n",
       "      <td>6</td>\n",
       "      <td>17</td>\n",
       "      <td>18</td>\n",
       "      <td>14</td>\n",
       "      <td>0</td>\n",
       "      <td>14</td>\n",
       "      <td>1</td>\n",
       "      <td>242</td>\n",
       "      <td>0</td>\n",
       "      <td>0</td>\n",
       "      <td>1</td>\n",
       "      <td>0</td>\n",
       "      <td>0</td>\n",
       "      <td>258</td>\n",
       "      <td>7</td>\n",
       "      <td>8</td>\n",
       "      <td>4</td>\n",
       "      <td>1</td>\n",
       "    </tr>\n",
       "    <tr>\n",
       "      <th>3</th>\n",
       "      <td>19</td>\n",
       "      <td>20</td>\n",
       "      <td>19</td>\n",
       "      <td>14</td>\n",
       "      <td>14</td>\n",
       "      <td>14</td>\n",
       "      <td>14</td>\n",
       "      <td>21</td>\n",
       "      <td>22</td>\n",
       "      <td>23</td>\n",
       "      <td>2</td>\n",
       "      <td>1</td>\n",
       "      <td>0</td>\n",
       "      <td>1</td>\n",
       "      <td>25</td>\n",
       "      <td>1</td>\n",
       "      <td>0</td>\n",
       "      <td>0</td>\n",
       "      <td>0</td>\n",
       "      <td>30</td>\n",
       "      <td>6</td>\n",
       "      <td>8</td>\n",
       "      <td>4</td>\n",
       "      <td>1</td>\n",
       "    </tr>\n",
       "    <tr>\n",
       "      <th>4</th>\n",
       "      <td>24</td>\n",
       "      <td>14</td>\n",
       "      <td>15</td>\n",
       "      <td>25</td>\n",
       "      <td>26</td>\n",
       "      <td>27</td>\n",
       "      <td>28</td>\n",
       "      <td>29</td>\n",
       "      <td>30</td>\n",
       "      <td>29</td>\n",
       "      <td>1</td>\n",
       "      <td>0</td>\n",
       "      <td>1</td>\n",
       "      <td>1</td>\n",
       "      <td>1</td>\n",
       "      <td>0</td>\n",
       "      <td>1</td>\n",
       "      <td>1</td>\n",
       "      <td>0</td>\n",
       "      <td>6</td>\n",
       "      <td>9</td>\n",
       "      <td>8</td>\n",
       "      <td>4</td>\n",
       "      <td>1</td>\n",
       "    </tr>\n",
       "  </tbody>\n",
       "</table>\n",
       "</div>"
      ],
      "text/plain": [
       "   site1  site2  site3  site4  site5  site6  site7  site8  site9  site10  \\\n",
       "0      1      2      3      4      3      3      4      3      5       3   \n",
       "1      6      7      8      9      3     10     11     12     13      14   \n",
       "2     14      4     14     14     15     16      6     17     18      14   \n",
       "3     19     20     19     14     14     14     14     21     22      23   \n",
       "4     24     14     15     25     26     27     28     29     30      29   \n",
       "\n",
       "   time_diff1  time_diff2  time_diff3  time_diff4  time_diff5  time_diff6  \\\n",
       "0          10           0           0           1          20           1   \n",
       "1           1           0         163         105           0           1   \n",
       "2           0          14           1         242           0           0   \n",
       "3           2           1           0           1          25           1   \n",
       "4           1           0           1           1           1           0   \n",
       "\n",
       "   time_diff7  time_diff8  time_diff9  session_timespan  #unique_sites  \\\n",
       "0           0           1           0                33              5   \n",
       "1           3           3           8               284             10   \n",
       "2           1           0           0               258              7   \n",
       "3           0           0           0                30              6   \n",
       "4           1           1           0                 6              9   \n",
       "\n",
       "   start_hour  day_of_week  target  \n",
       "0           8            4       1  \n",
       "1           8            4       1  \n",
       "2           8            4       1  \n",
       "3           8            4       1  \n",
       "4           8            4       1  "
      ]
     },
     "execution_count": 58,
     "metadata": {},
     "output_type": "execute_result"
    }
   ],
   "source": [
    "train_data_10users.head()"
   ]
  },
  {
   "cell_type": "markdown",
   "metadata": {},
   "source": [
    "**Примените функцию *prepare_train_set_with_fe* к данным по 150 пользователям, укажите *session_length*=10.**"
   ]
  },
  {
   "cell_type": "code",
   "execution_count": 50,
   "metadata": {
    "collapsed": false
   },
   "outputs": [
    {
     "name": "stdout",
     "output_type": "stream",
     "text": [
      "Wall time: 6min 9s\n"
     ]
    }
   ],
   "source": [
    "%%time\n",
    "train_data_150users = prepare_train_set_with_fe(os.path.join(PATH_TO_DATA, \n",
    "                                                         '150users'), \n",
    "                  site_freq_path=os.path.join(PATH_TO_DATA, \n",
    "                                              'site_freq_150users.pkl'),\n",
    "                  feature_names=feature_names, session_length=10)"
   ]
  },
  {
   "cell_type": "markdown",
   "metadata": {},
   "source": [
    "**Сохраните в pickle-файлы признаки *session_timespan*, *#unique_sites*, *start_hour* и *day_of_week* для 10 и 150 пользователей.**"
   ]
  },
  {
   "cell_type": "code",
   "execution_count": 51,
   "metadata": {
    "collapsed": true
   },
   "outputs": [],
   "source": [
    "new_features_10users = train_data_10users[['session_timespan', '#unique_sites', 'start_hour','day_of_week'] ]\n",
    "new_features_150users = train_data_150users[['session_timespan', '#unique_sites', 'start_hour','day_of_week'] ]"
   ]
  },
  {
   "cell_type": "code",
   "execution_count": 12,
   "metadata": {
    "collapsed": true
   },
   "outputs": [],
   "source": [
    "with open(os.path.join(PATH_TO_DATA, \n",
    "                       'new_features_10users.pkl'), 'wb') as new_features_10users_pkl:\n",
    "    pickle.dump(new_features_10users, new_features_10users_pkl)\n",
    "with open(os.path.join(PATH_TO_DATA, \n",
    "                       'new_features_150users.pkl'), 'wb') as new_features_150users_pkl:\n",
    "    pickle.dump(new_features_150users, new_features_150users_pkl)"
   ]
  },
  {
   "cell_type": "markdown",
   "metadata": {},
   "source": [
    "**<font color='red'>Вопрос 1. </font> Выведите медианную продолжительность сессии (*session_timespan*) для сессий 10 пользователей.**"
   ]
  },
  {
   "cell_type": "code",
   "execution_count": 13,
   "metadata": {
    "collapsed": false
   },
   "outputs": [
    {
     "data": {
      "text/plain": [
       "37.0"
      ]
     },
     "execution_count": 13,
     "metadata": {},
     "output_type": "execute_result"
    }
   ],
   "source": [
    "new_features_10users['session_timespan'].median()"
   ]
  },
  {
   "cell_type": "markdown",
   "metadata": {},
   "source": [
    "**<font color='red'>Вопрос 2. </font> Выведите медианный день недели, в который началась сессия, для сессий 10 пользователей.**"
   ]
  },
  {
   "cell_type": "code",
   "execution_count": 14,
   "metadata": {
    "collapsed": false
   },
   "outputs": [
    {
     "data": {
      "text/plain": [
       "2.0"
      ]
     },
     "execution_count": 14,
     "metadata": {},
     "output_type": "execute_result"
    }
   ],
   "source": [
    "new_features_10users['day_of_week'].median()"
   ]
  },
  {
   "cell_type": "markdown",
   "metadata": {},
   "source": [
    "**<font color='red'>Вопрос 3. </font>Выведите медианный час начала сессии для сессий 150 пользователей.**"
   ]
  },
  {
   "cell_type": "code",
   "execution_count": 15,
   "metadata": {
    "collapsed": false
   },
   "outputs": [
    {
     "data": {
      "text/plain": [
       "13.0"
      ]
     },
     "execution_count": 15,
     "metadata": {},
     "output_type": "execute_result"
    }
   ],
   "source": [
    "new_features_150users['start_hour'].median()"
   ]
  },
  {
   "cell_type": "markdown",
   "metadata": {},
   "source": [
    "**<font color='red'>Вопрос 4. </font>Выведите медианное значение числа уникальных сайтов в сессиях 150 пользователей.**"
   ]
  },
  {
   "cell_type": "code",
   "execution_count": 16,
   "metadata": {
    "collapsed": false
   },
   "outputs": [
    {
     "data": {
      "text/plain": [
       "7.0"
      ]
     },
     "execution_count": 16,
     "metadata": {},
     "output_type": "execute_result"
    }
   ],
   "source": [
    "new_features_150users['#unique_sites'].median() "
   ]
  },
  {
   "cell_type": "markdown",
   "metadata": {},
   "source": [
    "## Часть 2. Визуальный анализ данных"
   ]
  },
  {
   "cell_type": "markdown",
   "metadata": {},
   "source": [
    "**Забавы ради, потехи для дадим пользователям имена и ассоциируем с ними цвета.**"
   ]
  },
  {
   "cell_type": "code",
   "execution_count": 68,
   "metadata": {
    "collapsed": true
   },
   "outputs": [],
   "source": [
    "id_name_dict = {128: 'Mary-Kate', 39: 'Ashley', 207: 'Lindsey', 127: 'Naomi', 237: 'Avril',\n",
    "               33: 'Bob', 50: 'Bill', 31: 'John', 100: 'Dick', 241: 'Ed'}\n",
    "train_data_10users['target'] = train_data_10users['target'].map(id_name_dict)"
   ]
  },
  {
   "cell_type": "code",
   "execution_count": 69,
   "metadata": {
    "collapsed": true
   },
   "outputs": [],
   "source": [
    "color_dic = {'Mary-Kate': 'pink', 'Ashley': 'darkviolet', 'Lindsey':'blueviolet', \n",
    "             'Naomi': 'hotpink', 'Avril': 'orchid', \n",
    "             'Bob': 'firebrick', 'Bill': 'gold', 'John': 'forestgreen', \n",
    "             'Dick': 'slategrey', 'Ed':'brown'}"
   ]
  },
  {
   "cell_type": "markdown",
   "metadata": {},
   "source": [
    "**1. Постройте гистограмму распределения длины сессии в секундах (*session_timespan*). Ограничьте по *x* значением 200 (иначе слишком тяжелый хвост). Сделайте гистограмму цвета *darkviolet*, подпишите оси по-русски.**"
   ]
  },
  {
   "cell_type": "code",
   "execution_count": 19,
   "metadata": {
    "collapsed": false
   },
   "outputs": [
    {
     "data": {
      "text/plain": [
       "<matplotlib.text.Text at 0xefc9cf8>"
      ]
     },
     "execution_count": 19,
     "metadata": {},
     "output_type": "execute_result"
    },
    {
     "data": {
      "image/png": "[encoded data removed]",
      "text/plain": [
       "<matplotlib.figure.Figure at 0xa16ea20>"
      ]
     },
     "metadata": {},
     "output_type": "display_data"
    }
   ],
   "source": [
    "train_data_10users[train_data_10users['session_timespan'] < 200]['session_timespan'].hist(facecolor='darkviolet')\n",
    "plt.xlabel('Продолжительность сессии')\n",
    "plt.ylabel('Кол-во сессий')"
   ]
  },
  {
   "cell_type": "markdown",
   "metadata": {},
   "source": [
    "**2. Постройте гистограмму распределения числа уникальных сайтов в сессии (*#unique_sites*). Сделайте гистограмму цвета *aqua*, подпишите оси по-русски.**"
   ]
  },
  {
   "cell_type": "code",
   "execution_count": 20,
   "metadata": {
    "collapsed": false
   },
   "outputs": [
    {
     "data": {
      "text/plain": [
       "<matplotlib.text.Text at 0xa77aba8>"
      ]
     },
     "execution_count": 20,
     "metadata": {},
     "output_type": "execute_result"
    },
    {
     "data": {
      "image/png": "[encoded data removed]",
      "text/plain": [
       "<matplotlib.figure.Figure at 0xede5128>"
      ]
     },
     "metadata": {},
     "output_type": "display_data"
    }
   ],
   "source": [
    "train_data_10users['#unique_sites'].hist(facecolor='aqua')\n",
    "plt.xlabel('Число уникальных сайтов')\n",
    "plt.ylabel('Кол-во сессий')"
   ]
  },
  {
   "cell_type": "markdown",
   "metadata": {},
   "source": [
    "**3. Постройте гистограммы распределения числа уникальных сайтов в сессии (*#unique_sites*) для каждого из 10 пользователей по отдельности. Используйте *subplots*, чтоб разместить все 10 картинок на одной большой. Пометьте легендой каждую картинку, на легенде должно быть написано имя пользователя. Для каждого пользователя раскрасьте гистограмму его/ее цветом (*color_dic*). Подпишите оси по-русски в каждой из 10 гистограмм.**"
   ]
  },
  {
   "cell_type": "code",
   "execution_count": 74,
   "metadata": {
    "collapsed": false
   },
   "outputs": [
    {
     "name": "stdout",
     "output_type": "stream",
     "text": [
      "Int64Index([1782, 1783, 1784, 1785, 1786, 1787, 1788, 1789, 1790, 1791,\n",
      "            ...\n",
      "            3976, 3977, 3978, 3979, 3980, 3981, 3982, 3983, 3984, 3985],\n",
      "           dtype='int64', length=2204)\n"
     ]
    }
   ],
   "source": [
    "print(pd.groupby(train_data_10users, 'target').groups['Ashley'])"
   ]
  },
  {
   "cell_type": "code",
   "execution_count": 88,
   "metadata": {
    "collapsed": false
   },
   "outputs": [
    {
     "name": "stdout",
     "output_type": "stream",
     "text": [
      "0\n",
      "Ashley\n",
      "1\n",
      "Avril\n",
      "2\n",
      "Bill\n",
      "3\n",
      "Bob\n",
      "4\n",
      "Dick\n",
      "5\n",
      "Ed\n",
      "6\n",
      "John\n",
      "7\n",
      "Lindsey\n",
      "8\n",
      "Mary-Kate\n",
      "9\n",
      "Naomi\n"
     ]
    },
    {
     "data": {
      "image/png": "[encoded data removed]",
      "text/plain": [
       "<matplotlib.figure.Figure at 0xc18bd68>"
      ]
     },
     "metadata": {},
     "output_type": "display_data"
    }
   ],
   "source": [
    "fig, axes = plt.subplots(nrows=3, ncols=4, figsize=(16, 10))\n",
    "\n",
    "# как вариант, можно и по-другому\n",
    "for idx, (user, sub_df) in  enumerate(pd.groupby(train_data_10users, 'target')): \n",
    "    axes[idx //4, idx%4 ].hist(sub_df['#unique_sites'], color = color_dic[user] )\n",
    "    axes[idx//4, idx%4].set_title(user)"
   ]
  },
  {
   "cell_type": "markdown",
   "metadata": {},
   "source": [
    "**4. Постройте гистограмму распределения часа начала сессии (*start_hour*). Сделайте гистограмму цвета *darkgreen*, подпишите оси по-русски.**"
   ]
  },
  {
   "cell_type": "code",
   "execution_count": 89,
   "metadata": {
    "collapsed": false
   },
   "outputs": [
    {
     "data": {
      "text/plain": [
       "<matplotlib.text.Text at 0xca0e400>"
      ]
     },
     "execution_count": 89,
     "metadata": {},
     "output_type": "execute_result"
    },
    {
     "data": {
      "image/png": "[encoded data removed]",
      "text/plain": [
       "<matplotlib.figure.Figure at 0xe464550>"
      ]
     },
     "metadata": {},
     "output_type": "display_data"
    }
   ],
   "source": [
    "train_data_10users['start_hour'].hist(facecolor='darkgreen')\n",
    "plt.xlabel('Время начала сессии')\n",
    "plt.ylabel('Кол-во сессий')"
   ]
  },
  {
   "cell_type": "markdown",
   "metadata": {},
   "source": [
    "**5. Постройте гистограммы распределения часа начала сессии (*start_hour*) для каждого из 10 пользователей по отдельности. Используйте *subplots*, чтоб разместить все 10 картинок на одной большой. Пометьте легендой каждую картинку, на легенде должно быть написано имя пользователя. Для каждого пользователя раскрасьте гистограмму его/ее цветом (*color_dic*). Подпишите оси по-русски в каждой из 10 гистограмм.**"
   ]
  },
  {
   "cell_type": "code",
   "execution_count": 91,
   "metadata": {
    "collapsed": false
   },
   "outputs": [
    {
     "data": {
      "image/png": "[encoded data removed]",
      "text/plain": [
       "<matplotlib.figure.Figure at 0xe63bbe0>"
      ]
     },
     "metadata": {},
     "output_type": "display_data"
    }
   ],
   "source": [
    "fig, axes = plt.subplots(nrows=3, ncols=4, figsize=(16, 10))\n",
    "\n",
    "# как вариант, можно и по-другому\n",
    "for idx, (user, sub_df) in  enumerate(pd.groupby(train_data_10users, 'target')): \n",
    "    axes[idx //4, idx%4 ].hist(sub_df['start_hour'], color = color_dic[user] )\n",
    "    axes[idx//4, idx%4].set_title(user)"
   ]
  },
  {
   "cell_type": "markdown",
   "metadata": {},
   "source": [
    "**6. Постройте гистограмму распределения дня недели, в который началась сессия (*day_of_week*). Сделайте гистограмму цвета *sienna*, подпишите оси по-русски.**"
   ]
  },
  {
   "cell_type": "code",
   "execution_count": 92,
   "metadata": {
    "collapsed": false
   },
   "outputs": [
    {
     "data": {
      "text/plain": [
       "<matplotlib.text.Text at 0xdf4a908>"
      ]
     },
     "execution_count": 92,
     "metadata": {},
     "output_type": "execute_result"
    },
    {
     "data": {
      "image/png": "[encoded data removed]",
      "text/plain": [
       "<matplotlib.figure.Figure at 0xc8cb240>"
      ]
     },
     "metadata": {},
     "output_type": "display_data"
    }
   ],
   "source": [
    "train_data_10users['day_of_week'].hist(facecolor='sienna')\n",
    "plt.xlabel('День недели')\n",
    "plt.ylabel('Кол-во сессий')"
   ]
  },
  {
   "cell_type": "markdown",
   "metadata": {},
   "source": [
    "**7. Постройте гистограммы распределения дня недели, в который началась сессия (*day_of_week*) для каждого из 10 пользователей по отдельности. Используйте *subplots*, чтоб разместить все 10 картинок на одной большой. Измените метки по оси *X* на ['Пн', 'Вт', 'Ср', 'Чт', 'Пт', 'Сб', 'Вс'] – метод *set_xticklabels*. Пометьте легендой каждую картинку, на легенде должно быть написано имя пользователя. Для каждого пользователя раскрасьте гистограмму его/ее цветом (*color_dic*). Подпишите по-русски название каждой из 10 гистограмм.**"
   ]
  },
  {
   "cell_type": "code",
   "execution_count": 94,
   "metadata": {
    "collapsed": false
   },
   "outputs": [
    {
     "data": {
      "image/png": "[encoded data removed]",
      "text/plain": [
       "<matplotlib.figure.Figure at 0xea8b358>"
      ]
     },
     "metadata": {},
     "output_type": "display_data"
    }
   ],
   "source": [
    "fig, axes = plt.subplots(nrows=3, ncols=4, figsize=(16, 10))\n",
    "\n",
    "# как вариант, можно и по-другому\n",
    "for idx, (user, sub_df) in  enumerate(pd.groupby(train_data_10users, 'target')): \n",
    "    axes[idx //4, idx%4 ].hist(sub_df['day_of_week'], color = color_dic[user] )\n",
    "    axes[idx//4, idx%4].set_title(user)\n",
    "    axes[idx//4, idx%4].set_xticklabels(['Пн', 'Вт', 'Ср', 'Чт', 'Пт', 'Сб', 'Вс'])"
   ]
  },
  {
   "cell_type": "markdown",
   "metadata": {},
   "source": [
    "**8. Сделайте выводы про каждого пользователя по построенным графикам.**"
   ]
  },
  {
   "cell_type": "markdown",
   "metadata": {},
   "source": [
    "''' ВАШЕ ОПИСАНИЕ ЗДЕСЬ '''"
   ]
  },
  {
   "cell_type": "markdown",
   "metadata": {},
   "source": [
    "**Загрузите сохраненный ранее в pickle-файл частотный словарь сайтов для 10 пользователей. **"
   ]
  },
  {
   "cell_type": "code",
   "execution_count": 97,
   "metadata": {
    "collapsed": false
   },
   "outputs": [],
   "source": [
    "with open( os.path.join(PATH_TO_DATA, 'site_freq_10users.pkl'), 'rb') as f:\n",
    "        site_dict = pickle.load(f)"
   ]
  },
  {
   "cell_type": "markdown",
   "metadata": {},
   "source": [
    "**Определите топ-10 самых посещаемых сайтов (*top10_sites*) и соответствующие кол-ва посещений (*top10_freqs*).**"
   ]
  },
  {
   "cell_type": "code",
   "execution_count": 108,
   "metadata": {
    "collapsed": false
   },
   "outputs": [
    {
     "data": {
      "text/plain": [
       "[('s.youtube.com', (210, 8300)),\n",
       " ('www.google.fr', (51, 7813)),\n",
       " ('www.google.com', (4, 5441)),\n",
       " ('mail.google.com', (183, 4158)),\n",
       " ('www.facebook.com', (15, 4141)),\n",
       " ('apis.google.com', (52, 3758)),\n",
       " ('r3---sn-gxo5uxg-jqbe.googlevideo.com', (700, 3244)),\n",
       " ('r1---sn-gxo5uxg-jqbe.googlevideo.com', (214, 3094)),\n",
       " ('plus.google.com', (187, 2630)),\n",
       " ('accounts.google.com', (184, 2089)),\n",
       " ('r2---sn-gxo5uxg-jqbe.googlevideo.com', (699, 1939)),\n",
       " ('fr-mg42.mail.yahoo.com', (622, 1868)),\n",
       " ('www.youtube.com', (207, 1804)),\n",
       " ('r4---sn-gxo5uxg-jqbe.googlevideo.com', (208, 1702)),\n",
       " ('clients1.google.com', (568, 1493)),\n",
       " ('download.jboss.org', (1796, 1441)),\n",
       " ('s-static.ak.facebook.com', (66, 1388)),\n",
       " ('static.ak.facebook.com', (63, 1265)),\n",
       " ('i1.ytimg.com', (205, 1232)),\n",
       " ('twitter.com', (72, 1204)),\n",
       " ('accounts.youtube.com', (185, 1057)),\n",
       " ('platform.twitter.com', (70, 1041)),\n",
       " ('clients6.google.com', (191, 1039)),\n",
       " ('safebrowsing-cache.google.com', (576, 1039)),\n",
       " ('translate.google.fr', (1026, 1002)),\n",
       " ('api.twitter.com', (1602, 982)),\n",
       " ('accounts.google.fr', (186, 974)),\n",
       " ('talkgadget.google.com', (1949, 965)),\n",
       " ('mts0.google.com', (972, 763)),\n",
       " ('clients2.google.com', (188, 748)),\n",
       " ('ajax.googleapis.com', (10, 711)),\n",
       " ('login.yahoo.com', (621, 700)),\n",
       " ('chatenabled.mail.google.com', (189, 676)),\n",
       " ('media.melty.fr', (1392, 671)),\n",
       " ('mts1.google.com', (971, 666)),\n",
       " ('fr.openclassrooms.com', (532, 662)),\n",
       " ('safebrowsing.clients.google.com', (575, 598)),\n",
       " ('s.ytimg.com', (206, 583)),\n",
       " ('javadl-esd-secure.oracle.com', (574, 582)),\n",
       " ('maps.googleapis.com', (383, 559)),\n",
       " ('login.live.com', (204, 553)),\n",
       " ('maps.google.fr', (970, 531)),\n",
       " ('ieonline.microsoft.com', (95, 484)),\n",
       " ('connect.facebook.net', (64, 482)),\n",
       " ('h.live.com', (643, 482)),\n",
       " ('syndication.twitter.com', (843, 463)),\n",
       " ('khms1.google.fr', (974, 460)),\n",
       " ('khms0.google.fr', (975, 454)),\n",
       " ('docs.oracle.com', (1531, 442)),\n",
       " ('www.melty.fr', (1331, 439)),\n",
       " ('drive.google.com', (615, 427)),\n",
       " ('ocsp.digicert.com', (566, 416)),\n",
       " ('www.linkedin.com', (252, 407)),\n",
       " ('bits.wikimedia.org', (73, 402)),\n",
       " ('webmail.laposte.net', (14, 399)),\n",
       " ('fr.yahoo.com', (618, 379)),\n",
       " ('ycpi-mail-rest-core4.msg.yahoo.com', (3002, 367)),\n",
       " ('www.developpez.net', (433, 357)),\n",
       " ('fbstatic-a.akamaihd.net', (1285, 357)),\n",
       " ('armmf.adobe.com', (469, 339)),\n",
       " ('www.bing.com', (77, 332)),\n",
       " ('fr.wikipedia.org', (74, 330)),\n",
       " ('www.stid-france.com', (2965, 330)),\n",
       " ('translate.google.com', (1300, 326)),\n",
       " ('accounts.google.dz', (3585, 319)),\n",
       " ('download.oracle.com', (1530, 313)),\n",
       " ('gtssl-ocsp.geotrust.com', (567, 297)),\n",
       " ('ucs.query.yahoo.com', (624, 295)),\n",
       " ('www.oracle.com', (585, 293)),\n",
       " ('bay178.mail.live.com', (1482, 288)),\n",
       " ('g.msn.com', (637, 281)),\n",
       " ('gtglobal-ocsp.geotrust.com', (569, 279)),\n",
       " ('pixel.alephd.com', (319, 275)),\n",
       " ('live.lemde.fr', (230, 274)),\n",
       " ('plus.googleapis.com', (216, 270)),\n",
       " ('halc.iadvize.com', (1002, 268)),\n",
       " ('gg.google.com', (509, 267)),\n",
       " ('yt3.ggpht.com', (632, 265)),\n",
       " ('regie2.iquesta.com', (2986, 261)),\n",
       " ('ocsp.thawte.com', (565, 257)),\n",
       " ('go.microsoft.com', (386, 253)),\n",
       " ('windowslive.tt.omtrdc.net', (636, 250)),\n",
       " ('auto-ecole-cezeaux-clermont-freand.packweb2.com', (3154, 243)),\n",
       " ('www.linternaute.com', (336, 241)),\n",
       " ('ocsp.verisign.com', (578, 239)),\n",
       " ('meta.wikimedia.org', (75, 234)),\n",
       " ('its.tradelab.fr', (106, 230)),\n",
       " ('clients1.google.fr', (192, 226)),\n",
       " ('fbexternal-a.akamaihd.net', (3773, 225)),\n",
       " ('static.ccm2.net', (59, 213)),\n",
       " ('khms0.google.com', (1401, 208)),\n",
       " ('doug1izaerwt3.cloudfront.net', (534, 207)),\n",
       " ('api.bing.com', (394, 205)),\n",
       " ('fbcdn-creative-a.akamaihd.net', (3769, 200)),\n",
       " ('go.trouter.io', (649, 191)),\n",
       " ('khms1.google.com', (1400, 188)),\n",
       " ('secure.shared.live.com', (650, 180)),\n",
       " ('deliv.leboncoin.fr', (82, 179)),\n",
       " ('people.directory.live.com', (645, 172)),\n",
       " ('www.iquesta.com', (2987, 170)),\n",
       " ('static.ccmbg.com', (69, 167)),\n",
       " ('maps.google.com', (382, 167)),\n",
       " ('www.developpez.com', (1060, 164)),\n",
       " ('secure.footprint.net', (3003, 164)),\n",
       " ('www.googleapis.com', (535, 163)),\n",
       " ('hal9000.redintelligence.net', (40, 162)),\n",
       " ('evsecure-ocsp.verisign.com', (594, 161)),\n",
       " ('ba.commentcamarche.net', (60, 160)),\n",
       " ('repo.maven.apache.org', (1861, 157)),\n",
       " ('socialprofiles.zenfs.com', (626, 154)),\n",
       " ('ir2-attach.mail.yahoo.com', (2966, 154)),\n",
       " ('ocsp.usertrust.com', (580, 151)),\n",
       " ('geo0.ggpht.com', (1397, 151)),\n",
       " ('limos.raksmey.fr', (571, 150)),\n",
       " ('b.mail.google.com', (190, 141)),\n",
       " ('skydrive.live.com', (1489, 140)),\n",
       " ('www.commentcamarche.net', (58, 139)),\n",
       " ('osm.geobretagne.fr', (1109, 139)),\n",
       " ('www.gravatar.com', (823, 138)),\n",
       " ('www.chu-clermontferrand.fr', (4621, 138)),\n",
       " ('mts3.google.com', (1116, 137)),\n",
       " ('www.francetvinfo.fr', (1274, 137)),\n",
       " ('av.mediapostcommunication.net', (23, 133)),\n",
       " ('docs.google.com', (508, 133)),\n",
       " ('widgets.pinterest.com', (343, 132)),\n",
       " ('mts2.google.com', (1117, 132)),\n",
       " ('disqus.com', (1379, 130)),\n",
       " ('um.simpli.fi', (32, 129)),\n",
       " ('geo1.ggpht.com', (1403, 126)),\n",
       " ('platform.linkedin.com', (250, 123)),\n",
       " ('ad.melty.fr', (1332, 122)),\n",
       " ('fr.msn.com', (1033, 121)),\n",
       " ('www.laposte.net', (3, 119)),\n",
       " ('geo3.ggpht.com', (1404, 119)),\n",
       " ('fr.news.yahoo.com', (2996, 118)),\n",
       " ('premium.hi-mediaserver.com', (434, 117)),\n",
       " ('gdata.youtube.com', (213, 116)),\n",
       " ('ocsp.tcs.terena.org', (579, 116)),\n",
       " ('geo2.ggpht.com', (1405, 116)),\n",
       " ('fr.mail.yahoo.com', (2880, 116)),\n",
       " ('ak.cdiscount.com', (4840, 116)),\n",
       " ('login.wikimedia.org', (76, 115)),\n",
       " ('mg.mail.yahoo.com', (2765, 115)),\n",
       " ('c.msn.com', (1237, 114)),\n",
       " ('www.jeux-geographiques.com', (4176, 114)),\n",
       " ('r.ccmbg.com', (327, 113)),\n",
       " ('h2.msn.com', (647, 112)),\n",
       " ('fr.massivetriviaquiz.com', (225, 111)),\n",
       " ('pbs.twimg.com', (847, 111)),\n",
       " ('www.voyages-sncf.com', (1102, 111)),\n",
       " ('www.dropbox.com', (2288, 111)),\n",
       " ('www.youtube-nocookie.com', (702, 110)),\n",
       " ('dub125.mail.live.com', (4192, 110)),\n",
       " ('full-stream.net', (1709, 109)),\n",
       " ('www.google.dz', (3586, 107)),\n",
       " ('p.sfx.ms', (985, 106)),\n",
       " ('dnn506yrbagrg.cloudfront.net', (533, 105)),\n",
       " ('www.showroomprive.com', (2930, 105)),\n",
       " ('storage.live.com', (646, 104)),\n",
       " ('js.microsoft.com', (57, 103)),\n",
       " ('apex.oracle.com', (586, 103)),\n",
       " ('dub116.mail.live.com', (1047, 103)),\n",
       " ('static.leboncoin.fr', (3757, 103)),\n",
       " ('windows.microsoft.com', (584, 102)),\n",
       " ('mail.live.com', (642, 101)),\n",
       " ('www.letudiant.fr', (1997, 100)),\n",
       " ('res1.windows.microsoft.com', (581, 99)),\n",
       " ('www.google.com.pe', (1025, 99)),\n",
       " ('dub114.mail.live.com', (4439, 99)),\n",
       " ('choices.truste.com', (103, 98)),\n",
       " ('www.journaldunet.com', (2075, 98)),\n",
       " ('pixel2368.everesttech.net', (33, 97)),\n",
       " ('banniere.reussissonsensemble.fr', (110, 97)),\n",
       " ('ba.linternaute.com', (323, 97)),\n",
       " ('stackoverflow.com', (1868, 96)),\n",
       " ('www.leboncoin.fr', (3756, 95)),\n",
       " ('locdrop.query.yahoo.com', (619, 94)),\n",
       " ('www.w3schools.com', (1498, 94)),\n",
       " ('mt0.googleapis.com', (385, 93)),\n",
       " ('mt1.googleapis.com', (1195, 93)),\n",
       " ('as.showroomprive.com', (2934, 93)),\n",
       " ('res2.windows.microsoft.com', (582, 92)),\n",
       " ('www.games-workshop.com', (1291, 92)),\n",
       " ('evintl-ocsp.verisign.com', (635, 91)),\n",
       " ('160.92.123.193', (679, 91)),\n",
       " ('www.lequipe.fr', (300, 90)),\n",
       " ('js.live.net', (648, 90)),\n",
       " ('careers.accenture.com', (1956, 89)),\n",
       " ('ajax.coveritlive.com', (2771, 89)),\n",
       " ('fbcdn-sphotos-b-a.akamaihd.net', (3783, 89)),\n",
       " ('cbk0.googleapis.com', (4066, 89)),\n",
       " ('fpdownload2.macromedia.com', (1, 88)),\n",
       " ('rp.gwallet.com', (7, 88)),\n",
       " ('ftn.fortuneo.fr', (873, 87)),\n",
       " ('fbcdn-sphotos-c-a.akamaihd.net', (3778, 87)),\n",
       " ('www.byperiscope.com', (4641, 87)),\n",
       " ('ws.mediapostcommunication.net', (513, 86)),\n",
       " ('marketplace.eclipse.org', (2007, 86)),\n",
       " ('rs.mediapostcommunication.net', (22, 85)),\n",
       " ('p.typekit.net', (448, 85)),\n",
       " ('www.cdiscount.com', (2970, 85)),\n",
       " ('fbcdn-sphotos-f-a.akamaihd.net', (3784, 85)),\n",
       " ('match.rtbidder.net', (5, 84)),\n",
       " ('w.sharethis.com', (690, 84)),\n",
       " ('proxy-bay-people.directory.live.com', (1062, 83)),\n",
       " ('wwwd.caf.fr', (1466, 83)),\n",
       " ('www.dailymotion.com', (285, 82)),\n",
       " ('www.blogger.com', (704, 82)),\n",
       " ('www.squid-cache.org', (1051, 82)),\n",
       " ('www.coutellerie-tourangelle.com', (1242, 82)),\n",
       " ('probe.cedexis.org', (27, 81)),\n",
       " ('ce.lijit.com', (100, 81)),\n",
       " ('id.google.fr', (703, 80)),\n",
       " ('mm.eulerian.net', (460, 79)),\n",
       " ('www.gmail.com', (465, 79)),\n",
       " ('prod.registrar.skype.com', (1050, 79)),\n",
       " ('limelight.cedexis.com', (13, 78)),\n",
       " ('ocsp.godaddy.com', (758, 78)),\n",
       " ('office.microsoft.com', (1463, 78)),\n",
       " ('fbcdn-sphotos-d-a.akamaihd.net', (3785, 78)),\n",
       " ('r7---sn-cg07lues.googlevideo.com', (3821, 78)),\n",
       " ('www.audienceinsights.net', (1135, 77)),\n",
       " ('dlc.sun.com.edgesuite.net', (1970, 77)),\n",
       " ('r2---sn-cg07luez.googlevideo.com', (3819, 77)),\n",
       " ('www.cg18.fr', (4591, 77)),\n",
       " ('cloudfront.cedexis.com', (31, 76)),\n",
       " ('0.gravatar.com', (256, 76)),\n",
       " ('www.t2c.fr', (379, 76)),\n",
       " ('g.live.com', (988, 76)),\n",
       " ('proxy-blu-people.directory.live.com', (1496, 76)),\n",
       " ('fbcdn-sphotos-g-a.akamaihd.net', (3786, 76)),\n",
       " ('vp-eu.scene7.com', (1231, 75)),\n",
       " ('r6---sn-cg07lues.googlevideo.com', (1252, 75)),\n",
       " ('static.iquesta.com', (1757, 75)),\n",
       " ('fbcdn-sphotos-h-a.akamaihd.net', (3777, 74)),\n",
       " ('fansubresistance.in', (1457, 73)),\n",
       " ('news.google.fr', (227, 72)),\n",
       " ('ea.numericable.fr', (720, 72)),\n",
       " ('java.sun.com', (1529, 72)),\n",
       " ('www.covoiturage.fr', (4493, 72)),\n",
       " ('img.babylon.com', (965, 71)),\n",
       " ('www.talendforge.org', (1494, 71)),\n",
       " ('updates.netbeans.org', (2020, 71)),\n",
       " ('code.jquery.com', (259, 69)),\n",
       " ('ad.publicidees.com', (97, 68)),\n",
       " ('adventori.com', (211, 68)),\n",
       " ('img1.video.s-msn.com', (1035, 68)),\n",
       " ('yui.yahooapis.com', (1018, 67)),\n",
       " ('api.skype.com', (1049, 67)),\n",
       " ('ba.journaldunet.com', (2077, 67)),\n",
       " ('apnx-match.dotomi.com', (132, 66)),\n",
       " ('www.lordoftheringswords.com', (1249, 66)),\n",
       " ('www.chu-tours.fr', (4098, 66)),\n",
       " ('dl.javafx.com', (9, 65)),\n",
       " ('dub130.mail.live.com', (641, 65)),\n",
       " ('hub.video.msn.com', (1038, 65)),\n",
       " ('fbcdn-sphotos-e-a.akamaihd.net', (3776, 65)),\n",
       " ('level3.cedexis.com', (26, 64)),\n",
       " ('ocsp.comodoca.com', (604, 64)),\n",
       " ('ping.mail.yahoo.com', (2881, 64)),\n",
       " ('www.brandalley.fr', (2909, 64)),\n",
       " ('clicks.beap.bc.yahoo.com', (37, 63)),\n",
       " ('www.rivesparis.banquepopulaire.fr', (1467, 63)),\n",
       " ('jobs-stages.letudiant.fr', (1999, 63)),\n",
       " ('armdl.adobe.com', (470, 62)),\n",
       " ('player.vimeo.com', (628, 62)),\n",
       " ('tracking.melty.fr', (1469, 62)),\n",
       " ('www.mindat.org', (1192, 61)),\n",
       " ('shell.windows.com', (1491, 61)),\n",
       " ('i-cms.linternaute.com', (3033, 61)),\n",
       " ('support.sas.com', (3849, 61)),\n",
       " ('www.medi-partenaires.com', (4617, 61)),\n",
       " ('media-1.melty.fr', (1478, 60)),\n",
       " ('s0.wp.com', (436, 59)),\n",
       " ('ia.nspmotion.com', (1037, 59)),\n",
       " ('fdata.over-blog.net', (1125, 59)),\n",
       " ('network.aufeminin.com', (1260, 59)),\n",
       " ('dub128.mail.live.com', (1281, 59)),\n",
       " ('graph.facebook.com', (1344, 59)),\n",
       " ('1.gravatar.com', (1385, 59)),\n",
       " ('fbcdn-photos-b-a.akamaihd.net', (3770, 59)),\n",
       " ('fbcdn-sphotos-a-a.akamaihd.net', (3787, 59)),\n",
       " ('cdn-careers.sstatic.net', (1869, 58)),\n",
       " ('cid-4b3abd3dcf708cdf.users.storage.live.com', (1483, 57)),\n",
       " ('www.talend.com', (1493, 57)),\n",
       " ('spagobi.eng.it', (2581, 57)),\n",
       " ('photos.fr.msn.com', (4298, 57)),\n",
       " ('go.disqus.com', (1376, 56)),\n",
       " ('prod4.rest-core.msg.yahoo.com', (2882, 56)),\n",
       " ('fbcdn-photos-d-a.akamaihd.net', (3772, 56)),\n",
       " ('fbcdn-photos-h-a.akamaihd.net', (3779, 56)),\n",
       " ('www.grdf.fr', (4676, 56)),\n",
       " ('rubicon-match.dotomi.com', (16, 55)),\n",
       " ('www.ibm.com', (588, 55)),\n",
       " ('www.histoiredor.com', (2883, 55)),\n",
       " ('rapidssl-ocsp.geotrust.com', (593, 54)),\n",
       " ('careers.stackoverflow.com', (1870, 54)),\n",
       " ('byperiscopfr.track.emarketing-factory.com', (4642, 54)),\n",
       " ('picda.ilius.net', (1043, 53)),\n",
       " ('http.tidaltv.com', (1273, 53)),\n",
       " ('miniimg4.rightinthebox.com', (1696, 53)),\n",
       " ('sourceforge.net', (1854, 53)),\n",
       " ('iquesta.com', (2988, 53)),\n",
       " ('ocsp.entrust.net', (600, 52)),\n",
       " ('mail.yahoo.com', (620, 52)),\n",
       " ('api.facebook.com', (1477, 52)),\n",
       " ('word-edit.officeapps.live.com', (1741, 52)),\n",
       " ('media.brandalley.com', (2905, 52)),\n",
       " ('snt146.mail.live.com', (2916, 52)),\n",
       " ('static.s-sfr.fr', (79, 51)),\n",
       " ('ajax.microsoft.com', (583, 51)),\n",
       " ('c.fr.msn.com', (1034, 51)),\n",
       " ('mw2.google.com', (1118, 51)),\n",
       " ('assets.pinterest.com', (1205, 51)),\n",
       " ('fbcdn-photos-f-a.akamaihd.net', (3771, 51)),\n",
       " ('fbcdn-photos-g-a.akamaihd.net', (3781, 51)),\n",
       " ('www.dell.com', (4219, 51)),\n",
       " ('www.journaldesfemmes.com', (335, 50)),\n",
       " ('www.caf.fr', (1465, 50)),\n",
       " ('miniimg6.rightinthebox.com', (1688, 50)),\n",
       " ('livestats.fr', (1710, 50)),\n",
       " ('gm1.ggpht.com', (1950, 50)),\n",
       " ('0.drive.google.com', (1773, 49)),\n",
       " ('offres.groupama-gan-recrute.com', (2993, 49)),\n",
       " ('www.lamontagne.fr', (4052, 49)),\n",
       " ('www.ultimedia.com', (292, 48)),\n",
       " ('www.miniinthebox.com', (1685, 48)),\n",
       " ('miniimg3.rightinthebox.com', (1691, 48)),\n",
       " ('miniimg1.rightinthebox.com', (1693, 48)),\n",
       " ('fr.scribd.com', (1924, 48)),\n",
       " ('rs2.scribd.com', (1995, 48)),\n",
       " ('wikiora.com', (2691, 48)),\n",
       " ('pr.ybp.yahoo.com', (17, 47)),\n",
       " ('blufiles.storage.msn.com', (1183, 47)),\n",
       " ('fr.vente-privee.com', (1233, 47)),\n",
       " ('kissanime.com', (1590, 47)),\n",
       " ('miniimg5.rightinthebox.com', (1692, 47)),\n",
       " ('oracle.developpez.com', (2325, 47)),\n",
       " ('i-cms.journaldunet.com', (2844, 47)),\n",
       " ('www.youscribe.com', (3260, 47)),\n",
       " ('fbcdn-photos-a-a.akamaihd.net', (3780, 47)),\n",
       " ('rbp.mxptint.net', (24, 46)),\n",
       " ('c1.adform.net', (526, 46)),\n",
       " ('ecx.images-amazon.com', (1087, 46)),\n",
       " ('translate.googleapis.com', (1434, 46)),\n",
       " ('netbeans.org', (1968, 46)),\n",
       " ('download.eclipse.org', (2391, 46)),\n",
       " ('ea.histoiredor.com', (2884, 46)),\n",
       " ('dub121.mail.live.com', (4039, 46)),\n",
       " ('bitgravity.cedexis.com', (36, 45)),\n",
       " ('dl.patchbeam.com', (380, 45)),\n",
       " ('www.wat.tv', (916, 45)),\n",
       " ('wtpn.twenga.fr', (994, 45)),\n",
       " ('www.meltybuzz.fr', (1604, 45)),\n",
       " ('miniimg2.rightinthebox.com', (1690, 45)),\n",
       " ('fbcdn-photos-c-a.akamaihd.net', (3782, 45)),\n",
       " ('www.michelin.com', (4445, 45)),\n",
       " ('khm1.googleapis.com', (4593, 45)),\n",
       " ('s1.lemde.fr', (229, 44)),\n",
       " ('khms2.google.com', (1398, 44)),\n",
       " ('factominer.free.fr', (3160, 44)),\n",
       " ('www.tour-du-monde-80-idees-neuves.com', (4026, 44)),\n",
       " ('www.michelincareers.com', (4442, 44)),\n",
       " ('www.avise.org', (4720, 44)),\n",
       " ('avis.cdiscount.com', (4841, 44)),\n",
       " ('www.sfr.fr', (78, 43)),\n",
       " ('netdna.cedexis.com', (145, 43)),\n",
       " ('miniimg7.rightinthebox.com', (1695, 43)),\n",
       " ('stackauth.com', (1872, 43)),\n",
       " ('books.google.fr', (2387, 43)),\n",
       " ('www.franceo.fr', (3334, 43)),\n",
       " ('193.164.196.60', (3760, 43)),\n",
       " ('193.164.196.40', (3764, 43)),\n",
       " ('www.ac-orleans-tours.fr', (4475, 43)),\n",
       " ('api.adyoulike.com', (245, 42)),\n",
       " ('medias.lequipe.fr', (301, 42)),\n",
       " ('apikeys.civiccomputing.com', (1293, 42)),\n",
       " ('jdn.monster.com', (1316, 42)),\n",
       " ('discovery.renater.fr', (1976, 42)),\n",
       " ('www.reddit.com', (2092, 42)),\n",
       " ('nexus.ensighten.com', (2757, 42)),\n",
       " ('193.164.197.50', (3758, 42)),\n",
       " ('fbcdn-photos-e-a.akamaihd.net', (3774, 42)),\n",
       " ('r.ccm2.net', (65, 41)),\n",
       " ('static.lequipe.fr', (302, 41)),\n",
       " ('player.ooyala.com', (1271, 41)),\n",
       " ('khms3.google.com', (1399, 41)),\n",
       " ('miniimg8.rightinthebox.com', (1694, 41)),\n",
       " ('omni.accenture.com', (1955, 41)),\n",
       " ('193.164.197.40', (3762, 41)),\n",
       " ('compteperso.leboncoin.fr', (3765, 41)),\n",
       " ('pole-sante-republique.medi-partenaires.com', (4614, 41)),\n",
       " ('api.dailymotion.com', (11, 40)),\n",
       " ('evt.adrcntr.com', (156, 40)),\n",
       " ('od2.visiblemeasures.com', (289, 40)),\n",
       " ('fastly.bench.cedexis.com', (392, 40)),\n",
       " ('s2.wp.com', (435, 40)),\n",
       " ('www.emploi.bouyguestelecom.fr', (1986, 40)),\n",
       " ('us.lrd.yahoo.com', (2915, 40)),\n",
       " ('193.164.197.60', (3761, 40)),\n",
       " ('khm0.googleapis.com', (4592, 40)),\n",
       " ('eulerian.canal-plus.com', (330, 39)),\n",
       " ('blufiles.storage.live.com', (1487, 39)),\n",
       " ('a248.e.akamai.net', (1813, 39)),\n",
       " ('metrics.cdiscount.com', (2971, 39)),\n",
       " ('193.164.196.50', (3763, 39)),\n",
       " ('bigup.madmoizelle.com', (3990, 39)),\n",
       " ('static.siteduzero.com', (1740, 38)),\n",
       " ('www.apache.org', (1752, 38)),\n",
       " ('a.fsdn.com', (1855, 38)),\n",
       " ('static.francetv.fr', (3333, 38)),\n",
       " ('bfss.cr-auvergne.fr', (3750, 38)),\n",
       " ('193.164.196.30', (3759, 38)),\n",
       " ('cbk1.googleapis.com', (4067, 38)),\n",
       " ('x2.vindicosuite.com', (6, 37)),\n",
       " ('ak.c.ooyala.com', (148, 37)),\n",
       " ('javadl-esd.sun.com', (151, 37)),\n",
       " ('dc1w54.wysistat.com', (265, 37)),\n",
       " ('cache.20minutes.fr', (272, 37)),\n",
       " ('gmail.com', (616, 37)),\n",
       " ('pings.conviva.com', (630, 37)),\n",
       " ('spot.static.meetic.com', (1040, 37)),\n",
       " ('www.aufeminin.com', (1259, 37)),\n",
       " ('cdn2.reverso.net', (2280, 37)),\n",
       " ('193.164.197.30', (3755, 37)),\n",
       " ('www.lemonde.fr', (228, 36)),\n",
       " ('img2.video.s-msn.com', (1039, 36)),\n",
       " ('eros.usgs.gov', (1113, 36)),\n",
       " ('www.ngwinfo.com', (1250, 36)),\n",
       " ('z-ecx.images-amazon.com', (1409, 36)),\n",
       " ('www.stage.fr', (1761, 36)),\n",
       " ('mts0.googleapis.com', (2122, 36)),\n",
       " ('media.histoiredor.com', (2885, 36)),\n",
       " ('ig4.i-grasp.com', (3080, 36)),\n",
       " ('www.govoyages.com', (4197, 36)),\n",
       " ('illiweb.com', (453, 35)),\n",
       " ('g-ecx.images-amazon.com', (1406, 35)),\n",
       " ('www.amazon.fr', (1408, 35)),\n",
       " ('xslttest.appspot.com', (1517, 35)),\n",
       " ('accenture.tt.omtrdc.net', (1954, 35)),\n",
       " ('www.isima.fr', (3390, 35)),\n",
       " ('cid-b1a1925cdfe846a7.users.storage.live.com', (4040, 35)),\n",
       " ('sci.sciences.univ-bpclermont.fr', (1439, 34)),\n",
       " ('word-view.officeapps.live.com', (1669, 34)),\n",
       " ('core.adprotected.com', (1774, 34)),\n",
       " ('www.airfrance.fr', (1797, 34)),\n",
       " ('log.caspion.com', (2163, 34)),\n",
       " ('pic.dhe.ibm.com', (2576, 34)),\n",
       " ('fbcdn-vthumb-a.akamaihd.net', (3775, 34)),\n",
       " ('fcs.dell.com', (4222, 34)),\n",
       " ('www.cg37.fr', (4527, 34)),\n",
       " ('videosfr.s3.amazonaws.com', (249, 33)),\n",
       " ('cip.gagnoo.com', (284, 33)),\n",
       " ('livepassdl.conviva.com', (629, 33)),\n",
       " ('style.ad6.fr', (664, 33)),\n",
       " ('www.rhul.ac.uk', (1219, 33)),\n",
       " ('cs.specificclick.net', (1350, 33)),\n",
       " ('skyapi.skydrive.live.com', (1827, 33)),\n",
       " ('groupes.renater.fr', (1951, 33)),\n",
       " ('www.gmx.fr', (2493, 33)),\n",
       " ('www.cloveretl.com', (2547, 33)),\n",
       " ('www.visainfoservices.com', (3700, 33)),\n",
       " ('google.fr', (50, 32)),\n",
       " ('messagerie-11.sfr.fr', (86, 32)),\n",
       " ('images.orangepublicite.fr', (197, 32)),\n",
       " ('login.skype.com', (1052, 32)),\n",
       " ('www.caisse-epargne.fr', (1203, 32)),\n",
       " ('mts1.googleapis.com', (2121, 32)),\n",
       " ('repository.apache.org', (2129, 32)),\n",
       " ('eulerian.brandalley.fr', (2908, 32)),\n",
       " ('www.ac-clermont.fr', (3432, 32)),\n",
       " ('semio1.files.wordpress.com', (4295, 32)),\n",
       " ('b12.myspace.com', (19, 31)),\n",
       " ('www.mathworks.fr', (447, 31)),\n",
       " ('pt200204.unica.com', (590, 31)),\n",
       " ('img.over-blog.com', (1126, 31)),\n",
       " ('www.cartejeunes-nouveaumonde.fr', (1296, 31)),\n",
       " ('www.melty.de', (1330, 31)),\n",
       " ('y.one.impact-ad.jp', (1348, 31)),\n",
       " ('sync.uuidcshmg.com', (1389, 31)),\n",
       " ('resources.arcgis.com', (1440, 31)),\n",
       " ('fr.web.img6.acsta.net', (1619, 31)),\n",
       " ('lc.iadvize.com', (1658, 31)),\n",
       " ('www.kfc.fr', (1788, 31)),\n",
       " ('fr.pourelles.yahoo.com', (2999, 31)),\n",
       " ('www.les-mathematiques.net', (4045, 31)),\n",
       " ('msfs.nspmotion.com', (1036, 30)),\n",
       " ('s3-eu-west-1.amazonaws.com', (1295, 30)),\n",
       " ('sites.google.com', (1360, 30)),\n",
       " ('c.live.com', (1484, 30)),\n",
       " ('www.viedemerde.fr', (1504, 30)),\n",
       " ('media.fan2.fr', (1611, 30)),\n",
       " ('dev.twitter.com', (1811, 30)),\n",
       " ('www.stumbleupon.com', (2091, 30)),\n",
       " ('www.capital.fr', (2835, 30)),\n",
       " ('img1.blogblog.com', (705, 29)),\n",
       " ('2.bp.blogspot.com', (1545, 29)),\n",
       " ('adzerk-www.s3.amazonaws.com', (1871, 29)),\n",
       " ('rs4.scribd.com', (1925, 29)),\n",
       " ('lh6.ggpht.com', (2262, 29)),\n",
       " ('www.coveritlive.com', (2768, 29)),\n",
       " ('www.pfl-cepia.inra.fr', (2776, 29)),\n",
       " ('www.business.gov.au', (4028, 29)),\n",
       " ('s.videostep.com', (236, 28)),\n",
       " ('www.powerarchiver.com', (381, 28)),\n",
       " ('cid-0f9a1ff31470c0bc.users.storage.live.com', (1048, 28)),\n",
       " ('85.17.77.13', (1239, 28)),\n",
       " ('images.gx101.com', (1540, 28)),\n",
       " ('media.meltybuzz.fr', (1605, 28)),\n",
       " ('www.fan2.fr', (1612, 28)),\n",
       " ('qsearch.media.net', (3716, 28)),\n",
       " ('gdfsuez.taleo.net', (4683, 28)),\n",
       " ('boutique-online.orange.fr', (42, 27)),\n",
       " ('www.lerugbynistere.fr', (277, 27)),\n",
       " ('widget.achetezfacile.com', (303, 27)),\n",
       " ('r.kelkoo.com', (331, 27)),\n",
       " ('image.jeuxvideo.com', (654, 27)),\n",
       " ('edge.sharethis.com', (694, 27)),\n",
       " ('fstatic.iadvize.com', (1005, 27)),\n",
       " ('ac.babsrv.com', (1199, 27)),\n",
       " ('imworld.aufeminin.com', (1256, 27)),\n",
       " ('images-na.ssl-images-amazon.com', (1366, 27)),\n",
       " ('optim.dekalee.fr', (1506, 27)),\n",
       " ('i.stack.imgur.com', (1888, 27)),\n",
       " ('uaa.springsource.org', (1907, 27)),\n",
       " ('rcm-fr.amazon.fr', (1916, 27)),\n",
       " ('dev.mysql.com', (2036, 27)),\n",
       " ('www.chine-nouvelle.com', (2162, 27)),\n",
       " ('ws-cdi.web-boosting.net', (2973, 27)),\n",
       " ('emea3.recruitmentplatform.com', (3070, 27)),\n",
       " ('static.lexpress.fr', (3174, 27)),\n",
       " ('www.trocdestrains.com', (3420, 27)),\n",
       " ('bibliotheque.clermont-universite.fr', (3830, 27)),\n",
       " ('sfr.cedexis.com', (47, 26)),\n",
       " ('lh4.ggpht.com', (215, 26)),\n",
       " ('emailretargeting.com', (264, 26)),\n",
       " ('sb-ssl.google.com', (577, 26)),\n",
       " ('1.www.s81c.com', (589, 26)),\n",
       " ('login.secure.emea.msn.com', (1042, 26)),\n",
       " ('www.groupon.fr', (1068, 26)),\n",
       " ('l.ooyala.com', (1277, 26)),\n",
       " ('news.fr.msn.com', (1319, 26)),\n",
       " ('hotmail.fr', (1479, 26)),\n",
       " ('0.docs.google.com', (1770, 26)),\n",
       " ('akio-1-17.akio-solutions.com', (2913, 26)),\n",
       " ('t.voyages-sncf.com', (3801, 26)),\n",
       " ('bbcphotos.s3.amazonaws.com', (4492, 26)),\n",
       " ('cms.abmr.net', (203, 25)),\n",
       " ('chinacache.cedexis.com', (391, 25)),\n",
       " ('fastly.bench.cedexis.com.global.prod.fastly.net', (393, 25)),\n",
       " ('office14client.microsoft.com', (935, 25)),\n",
       " ('rbx-cdn-tpn.c4tw.net', (998, 25)),\n",
       " ('www.lightinthebox.com', (1069, 25)),\n",
       " ('www.lagardedenuit.com', (1084, 25)),\n",
       " ('consent-st.truste.com', (1856, 25)),\n",
       " ('www.oracleimg.com', (2001, 25)),\n",
       " ('www.snapengage.com', (2193, 25)),\n",
       " ('lfov.net', (2276, 25)),\n",
       " ('837-events.olark.com', (2471, 25)),\n",
       " ('ccu.viamichelin.com', (3635, 25)),\n",
       " ('kh6qrx0f8h.s.ad6media.fr', (61, 24)),\n",
       " ('cedexis.cachefly.net', (142, 24)),\n",
       " ('badge.facebook.com', (573, 24)),\n",
       " ('fr-fr.facebook.com', (614, 24)),\n",
       " ('www.jeuxvideo.com', (655, 24)),\n",
       " ('video.msn.com', (1041, 24)),\n",
       " ('wd.sharethis.com', (1541, 24)),\n",
       " ('ibeu2.mookie1.com', (1608, 24)),\n",
       " ('www.eclipse.org', (2073, 24)),\n",
       " ('widgets.wp.com', (2216, 24)),\n",
       " ('www.agence-maths-entreprises.fr', (2922, 24)),\n",
       " ('media.query.yahoo.com', (2957, 24)),\n",
       " ('www.ca-centrefrance.fr', (3611, 24)),\n",
       " ('laposte.net', (2, 23)),\n",
       " ('msc2.s-sfr.fr', (89, 23)),\n",
       " ('cimg.leguide.com', (241, 23)),\n",
       " ('geo.mozilla.org', (587, 23)),\n",
       " ('us-mg42.mail.yahoo.com', (623, 23)),\n",
       " ('www.meltystyle.fr', (1473, 23)),\n",
       " ('smart2.allocine.fr', (1637, 23)),\n",
       " ('4.bp.blogspot.com', (1668, 23)),\n",
       " ('lh5.ggpht.com', (2139, 23)),\n",
       " ('www.mistra.fr', (2192, 23)),\n",
       " ('s1.wp.com', (2214, 23)),\n",
       " ('www.freebsd.org', (2408, 23)),\n",
       " ('www.sas.com', (3050, 23)),\n",
       " ('www.indeed.fr', (3418, 23)),\n",
       " ('fr.ad4mat.net', (98, 22)),\n",
       " ('feeds.delicious.com', (439, 22)),\n",
       " ('tc.airfrance.com', (598, 22)),\n",
       " ('broadcast.piximedia.fr', (992, 22)),\n",
       " ('www.cinejaude.fr', (1648, 22)),\n",
       " ('www.accenture.com', (1953, 22)),\n",
       " ('didier.deleglise.free.fr', (2457, 22)),\n",
       " ('google.com', (2692, 22)),\n",
       " ('cdns3.coveritlive.com', (2770, 22)),\n",
       " ('www.emploi-alternance.net', (3263, 22)),\n",
       " ('www.expedia.co.uk', (3707, 22)),\n",
       " ('www.rue89.com', (3947, 22)),\n",
       " ('www.ladera.com', (4365, 22)),\n",
       " ('eu-ams1.joyent.bench.cedexis.com', (48, 21)),\n",
       " ('onapp.cedexis.com', (49, 21)),\n",
       " ('style2.ad6.fr', (62, 21)),\n",
       " ('cedexis-test01.insnw.net', (126, 21)),\n",
       " ('ec2-us-west-2a.cedexis.com', (144, 21)),\n",
       " ('ec2-us-east-1a.cedexis.com', (169, 21)),\n",
       " ('netstorage.lequipe.fr', (304, 21)),\n",
       " ('sa.kewego.com', (305, 21)),\n",
       " ('www.annuaire.com', (525, 21)),\n",
       " ('www.beead.fr', (919, 21)),\n",
       " ('forum.hardware.fr', (993, 21)),\n",
       " ('www.w3.org', (1742, 21)),\n",
       " ('www.listesdemots.fr', (1822, 21)),\n",
       " ('1.bp.blogspot.com', (1830, 21)),\n",
       " ('planet.jboss.org', (2018, 21)),\n",
       " ('www.reverso.net', (2281, 21)),\n",
       " ('dl-web.dropbox.com', (2287, 21)),\n",
       " ('488-nko-684.mktoresp.com', (2513, 21)),\n",
       " ('foad.univ-ubs.fr', (2745, 21)),\n",
       " ('fr.tv.yahoo.com', (2956, 21)),\n",
       " ('www.directetudiant.com', (3406, 21)),\n",
       " ('siteswebdev.locinfor2.serveur-host.fr', (4188, 21)),\n",
       " ('www.restaurantsclermont.com', (4602, 21)),\n",
       " ('common.numerigraphe.com', (4775, 21)),\n",
       " ('a.nonstoppartner.net', (266, 20)),\n",
       " ('wwwimages.adobe.com', (340, 20)),\n",
       " ('www.geneanet.org', (360, 20)),\n",
       " ('i2.ytimg.com', (701, 20)),\n",
       " ('chart.googleapis.com', (973, 20)),\n",
       " ('media-social.s-msn.com', (1044, 20)),\n",
       " ('www.u-psud.fr', (1266, 20)),\n",
       " ('manoa.hawaii.edu', (1416, 20)),\n",
       " ('media.expedia.com', (1553, 20)),\n",
       " ('www.leparisien.fr', (1755, 20)),\n",
       " ('www.parisetudiant.com', (1756, 20)),\n",
       " ('htmlimg3.scribdassets.com', (1927, 20)),\n",
       " ('facebook.com', (1960, 20)),\n",
       " ('www.soapui.org', (2290, 20)),\n",
       " ('www.gwtproject.org', (2345, 20)),\n",
       " ('forums.oracle.com', (2474, 20)),\n",
       " ('brandalley-box.akio-solutions.com', (2910, 20)),\n",
       " ('home.edt02.net', (3925, 20)),\n",
       " ('ec2-eu-west-1a.cedexis.com', (162, 19)),\n",
       " ('s3.amazonaws.com', (251, 19)),\n",
       " ('i.htfacile.fr', (306, 19)),\n",
       " ('eulerian.sarenza.com', (395, 19)),\n",
       " ('mpp2.vindicosuite.com', (829, 19)),\n",
       " ('cnfg.toolbarservices.com', (963, 19)),\n",
       " ('forum-images.hardware.fr', (995, 19)),\n",
       " ('www.mail.live.com', (1046, 19)),\n",
       " ('d3cxv97fi8q177.cloudfront.net', (1080, 19)),\n",
       " ('cdn-files.deezer.com', (1284, 19)),\n",
       " ('s.huffpost.com', (1334, 19)),\n",
       " ('admaym.com', (1347, 19)),\n",
       " ('mangafox.me', (1585, 19)),\n",
       " ('u.jimdo.com', (1603, 19)),\n",
       " ('3.bp.blogspot.com', (1667, 19)),\n",
       " ('dtym7iokkjlif.cloudfront.net', (1748, 19)),\n",
       " ('blog.xebia.fr', (1901, 19)),\n",
       " ('www.paypal.com', (1906, 19)),\n",
       " ('static.addtoany.com', (2098, 19)),\n",
       " ('docs.jboss.org', (2135, 19)),\n",
       " ('liris.cnrs.fr', (2144, 19)),\n",
       " ('800-tiv-782.mktoresp.com', (2292, 19)),\n",
       " ('y8d63b9ic5.s.ad6media.fr', (2297, 19)),\n",
       " ('public.dhe.ibm.com', (2395, 19)),\n",
       " ('forums.futura-sciences.com', (2422, 19)),\n",
       " ('www-01.ibm.com', (2499, 19)),\n",
       " ('mbouayoun.developpez.com', (2701, 19)),\n",
       " ('www.ukba.homeoffice.gov.uk', (3694, 19)),\n",
       " ('perso.univ-rennes1.fr', (4167, 19)),\n",
       " ('static.monmenu.fr', (4585, 19)),\n",
       " ('www.numericable.biz', (4743, 19)),\n",
       " ('pool-eu-ie.creative-serving.com', (8, 18)),\n",
       " ('ec2-ap-northeast-1a.cedexis.com', (30, 18)),\n",
       " ('www.pagesjaunes.fr', (377, 18)),\n",
       " ('s5.scribdassets.com', (442, 18)),\n",
       " ('html1.scribdassets.com', (445, 18)),\n",
       " ('www.slideshare.net', (596, 18)),\n",
       " ('i2.wp.com', (821, 18)),\n",
       " ('www.blogblog.com', (881, 18)),\n",
       " ('i10.twenga.com', (997, 18)),\n",
       " ('www.sensagent.com', (1093, 18)),\n",
       " ('www.valyriansteel.com', (1247, 18)),\n",
       " ('www.melty.it', (1328, 18)),\n",
       " ('www.melty.es', (1329, 18)),\n",
       " ('fls-eu.amazon.fr', (1407, 18)),\n",
       " ('s374.meetrics.net', (1446, 18)),\n",
       " ('java.developpez.com', (1558, 18)),\n",
       " ('static.commentcamarche.net', (1671, 18)),\n",
       " ('s20.postimg.org', (1713, 18)),\n",
       " ('maven.apache.org', (1751, 18)),\n",
       " ('html4.scribdassets.com', (1935, 18)),\n",
       " ('public-api.wordpress.com', (2218, 18)),\n",
       " ('www.mobifiesta.com', (2298, 18)),\n",
       " ('medias.jules.fr', (2381, 18)),\n",
       " ('www.dba-ora.fr', (2447, 18)),\n",
       " ('consommateur-modedevie.com', (2534, 18)),\n",
       " ('szrmtenqc1bkuvk9.col.ip-label.net', (2912, 18)),\n",
       " ('www.dogfinance.com', (2924, 18)),\n",
       " ('yep.video.yahoo.com', (2997, 18)),\n",
       " ('files.multiposting.fr', (3071, 18)),\n",
       " ('www.master280.com', (3355, 18)),\n",
       " ('www.bellanaija.com', (3723, 18)),\n",
       " ('catalogue.clermont-universite.fr', (3831, 18)),\n",
       " ('i.dell.com', (4221, 18)),\n",
       " ('player.mediabong.com', (270, 17)),\n",
       " ('htmlimg2.scribdassets.com', (444, 17)),\n",
       " ('ocsp.gandi.net', (651, 17)),\n",
       " ('fr-himedia.videoplaza.tv', (658, 17)),\n",
       " ('cdns.gigya.com', (1003, 17)),\n",
       " ('link.springer.com', (1054, 17)),\n",
       " ('stat.di.u-psud.fr', (1267, 17)),\n",
       " ('js.sddan.com', (1378, 17)),\n",
       " ('www.hawaii.edu', (1382, 17)),\n",
       " ('fr.web.img4.acsta.net', (1617, 17)),\n",
       " ('miniimg.rightinthebox.com', (1684, 17)),\n",
       " ('htmlimg4.scribdassets.com', (1932, 17)),\n",
       " ('www.classcroute.com', (2117, 17)),\n",
       " ('code.google.com', (2253, 17)),\n",
       " ('images.gmx.com', (2496, 17)),\n",
       " ('playforfree.travian.fr', (2540, 17)),\n",
       " ('www.bwin.fr', (2545, 17)),\n",
       " ('www.le1513.com', (2570, 17)),\n",
       " ('get.adobe.com', (2675, 17)),\n",
       " ('media.newjobs.com', (2755, 17)),\n",
       " ('ssl.bing.com', (2963, 17)),\n",
       " ('candidatures.u-pec.fr', (3032, 17)),\n",
       " ('st.free.fr', (3161, 17)),\n",
       " ('www.invs.sante.fr', (3269, 17)),\n",
       " ('bonpatron.com', (4571, 17)),\n",
       " ('www.solarear.com.br', (4792, 17)),\n",
       " ('player.kpsule.me', (68, 16)),\n",
       " ('redir.adbutter.net', (130, 16)),\n",
       " ('us-west1.joyent.bench.cedexis.com', (150, 16)),\n",
       " ('listener.ezakus.net', (237, 16)),\n",
       " ('cshoppingbox.partner.leguide.com', (240, 16)),\n",
       " ('www.europe1.fr', (260, 16)),\n",
       " ('logger-02.vty.dailymotion.com', (290, 16)),\n",
       " ('www.adobe.com', (339, 16)),\n",
       " ('static.geneanet.org', (361, 16)),\n",
       " ('maps-api-ssl.google.com', (989, 16)),\n",
       " ('i11.twenga.com', (999, 16)),\n",
       " ('serv3.vizury.com', (1081, 16)),\n",
       " ('goo.gl', (1227, 16)),\n",
       " ('s.kau.li', (1349, 16)),\n",
       " ('bay03.calendar.live.com', (1481, 16)),\n",
       " ('bay178.afx.ms', (1495, 16)),\n",
       " ('adprotected.com', (1775, 16)),\n",
       " ('imgv2-4.scribdassets.com', (1928, 16)),\n",
       " ('lh3.ggpht.com', (2264, 16)),\n",
       " ('psoug.org', (2417, 16)),\n",
       " ('it3yv1v73b.s.ad6media.fr', (2448, 16)),\n",
       " ('html3.scribdassets.com', (2508, 16)),\n",
       " ('dev.eclipse.org', (2654, 16)),\n",
       " ('alma.univ-nantes.fr', (2806, 16)),\n",
       " ('fxdepo-a.akamaihd.net', (2964, 16)),\n",
       " ('video.query.yahoo.com', (2998, 16)),\n",
       " ('cadres.apec.fr', (3287, 16)),\n",
       " ('candidatures.u-pem.fr', (3294, 16)),\n",
       " ('fr.sports.yahoo.com', (3581, 16)),\n",
       " ('fr.cinema.yahoo.com', (3664, 16)),\n",
       " ('books.google.com', (3832, 16)),\n",
       " ('spc.cecebdhhbhpgeemgigiekedh.vast2as3.audiencetv-pubnet.fr.telemetryverification.net',\n",
       "  (3975, 16)),\n",
       " ('pub6.media-clic.com', (4177, 16)),\n",
       " ('www.sdis63.fr', (4702, 16)),\n",
       " ('aws-ap-southeast-2a.bench.cedexis.com', (116, 15)),\n",
       " ('ad.foxitsoftware.com', (182, 15)),\n",
       " ('static.ebz.io', (262, 15)),\n",
       " ('static.mediabong.com', (273, 15)),\n",
       " ('ba.journaldesfemmes.com', (365, 15)),\n",
       " ('en.wikipedia.org', (517, 15)),\n",
       " ('ta.kewego.com', (675, 15)),\n",
       " ('s1.libe.com', (734, 15)),\n",
       " ('ocsp2.globalsign.com', (765, 15)),\n",
       " ('img2.blogblog.com', (879, 15)),\n",
       " ('utils.delta-search.com', (964, 15)),\n",
       " ('byfiles.storage.msn.com', (986, 15)),\n",
       " ('clients1.google.com.pe', (1139, 15)),\n",
       " ('ajax.cloudflare.com', (1292, 15)),\n",
       " ('i.imgur.com', (1374, 15)),\n",
       " ('www.toutlecine.com', (1388, 15)),\n",
       " ('xmlfr.org', (1520, 15)),\n",
       " ('static.cotecine.fr', (1649, 15)),\n",
       " ('tracking.veoxa.com', (1654, 15)),\n",
       " ('d1447tq2m68ekg.cloudfront.net', (1659, 15)),\n",
       " ('www.quizz.biz', (1744, 15)),\n",
       " ('static.pagesjaunes.fr', (2070, 15)),\n",
       " ('cbks0.google.com', (2120, 15)),\n",
       " ('www.tutorialspoint.com', (2254, 15)),\n",
       " ('blogosquare.com', (2438, 15)),\n",
       " ('orange.jobs', (2746, 15)),\n",
       " ('fr.answers.yahoo.com', (2763, 15)),\n",
       " ('www.maxitoys.fr', (2975, 15)),\n",
       " ('www.cora.fr', (2978, 15)),\n",
       " ('www.quintiles.com', (2989, 15)),\n",
       " ('www.optioncarriere.com', (3275, 15)),\n",
       " ('spiral.univ-lyon1.fr', (3405, 15)),\n",
       " ('www.jobijoba.com', (3410, 15)),\n",
       " ('wcb.linkeo.com', (3612, 15)),\n",
       " ('dub127.mail.live.com', (3678, 15)),\n",
       " ('www.forbes.com', (3712, 15)),\n",
       " ('www.cokeandpopcorn.ch', (3807, 15)),\n",
       " ('media.apce.com', (4014, 15)),\n",
       " ('www.insee.fr', (4433, 15)),\n",
       " ('www.opendev.fr', (4681, 15)),\n",
       " ('www.atelier-idf.org', (4721, 15)),\n",
       " ('www.e-picardie.net', (4774, 15)),\n",
       " ('datayr.yves-rocher.fr', (43, 14)),\n",
       " ('messagerie-13.sfr.fr', (93, 14)),\n",
       " ('www.mathworks.com', (446, 14)),\n",
       " ('radar.cedexis.swiftserve.com', (499, 14)),\n",
       " ('llnwop.cedexis.com', (539, 14)),\n",
       " ('mfr.meteofrance.com', (827, 14)),\n",
       " ('www.math.u-bordeaux1.fr', (990, 14)),\n",
       " ('network.alfemminile.com', (1265, 14)),\n",
       " ('p.ccmbg.com', (1272, 14)),\n",
       " ('static.canalblog.com', (1355, 14)),\n",
       " ('www.amazon.com', (1365, 14)),\n",
       " ('storage.googleapis.com', (1402, 14)),\n",
       " ('agence.voyages-sncf.com', (1552, 14)),\n",
       " ('fr.web.img1.acsta.net', (1624, 14)),\n",
       " ('snippets-stats.mozilla.org', (1734, 14)),\n",
       " ('dsms0mj1bbhn4.cloudfront.net', (1749, 14)),\n",
       " ('www.jmdoudoux.fr', (1902, 14)),\n",
       " ('htmlimg1.scribdassets.com', (1929, 14)),\n",
       " ('imgv2-3.scribdassets.com', (1931, 14)),\n",
       " ('d.startpagea.com', (1989, 14)),\n",
       " ('www.pixgame.fr', (2096, 14)),\n",
       " ('static.autoplus.fr', (2302, 14)),\n",
       " ('olivier.coupelon.net', (2328, 14)),\n",
       " ('jl2tho.blogspot.fr', (2359, 14)),\n",
       " ('www.arkzoyd.com', (2458, 14)),\n",
       " ('jersey.java.net', (2464, 14)),\n",
       " ('www.ryanair.com', (2482, 14)),\n",
       " ('www.microsoft.com', (2503, 14)),\n",
       " ('forge.ow2.org', (2551, 14)),\n",
       " ('www.u-pec.fr', (3029, 14)),\n",
       " ('dis.univ-lyon2.fr', (3079, 14)),\n",
       " ('covea.taleo.net', (3270, 14)),\n",
       " ('pgep.francetv.fr', (3336, 14)),\n",
       " ('www.monitor.co.ug', (3683, 14)),\n",
       " ('secure.voyages-sncf.com', (3804, 14)),\n",
       " ('www.pressealgerie.fr', (3915, 14)),\n",
       " ('photo.capital.fr', (4007, 14)),\n",
       " ('www.apce.com', (4013, 14)),\n",
       " ('www.outlook.com', (4047, 14)),\n",
       " ('afcs.dell.com', (4220, 14)),\n",
       " ('www.affaires-etrangeres.gouv.ga', (4426, 14)),\n",
       " ('s.cdiscount.widgetvillage.com', (4839, 14)),\n",
       " ('msc1.s-sfr.fr', (88, 13)),\n",
       " ('us-east1.joyent.bench.cedexis.com', (115, 13)),\n",
       " ('ec2-us-west-1a.cedexis.com', (127, 13)),\n",
       " ('lon.rackspace.bench.cedexis.com', (158, 13)),\n",
       " ('i4.ytimg.com', (212, 13)),\n",
       " ('cdnjs.cloudflare.com', (242, 13)),\n",
       " ('cm.adgrx.com', (282, 13)),\n",
       " ('apr.lijit.com', (456, 13)),\n",
       " ('akamai.cedexis.com', (488, 13)),\n",
       " ('fastlydsa.bench.cedexis.com', (496, 13)),\n",
       " ('thumbp5-ir2.mail.yahoo.com', (625, 13)),\n",
       " ('foglio.basilic.io', (677, 13)),\n",
       " ('m.ad6media.fr', (824, 13)),\n",
       " ('aura.gsfc.nasa.gov', (976, 13)),\n",
       " ('bay177.mail.live.com', (983, 13)),\n",
       " ('github.com', (1031, 13)),\n",
       " ('www.vente-privee.com', (1234, 13)),\n",
       " ('loadr.exelator.com', (1371, 13)),\n",
       " ('help.arcgis.com', (1442, 13)),\n",
       " ('mastertag.effiliation.com', (1511, 13)),\n",
       " ('347-iat-677.mktoresp.com', (1524, 13)),\n",
       " ('fr.web.img2.acsta.net', (1620, 13)),\n",
       " ('www.codeblocks.org', (1852, 13)),\n",
       " ('imgv2-2.scribdassets.com', (1926, 13)),\n",
       " ('api-mc.bouyguestelecom.fr', (1939, 13)),\n",
       " ('vaadin.com', (2010, 13)),\n",
       " ('use.typekit.net', (2348, 13)),\n",
       " ('www.programcreek.com', (2350, 13)),\n",
       " ('deliv.bayard-pub.com', (2386, 13)),\n",
       " ('idata.over-blog.com', (2444, 13)),\n",
       " ('tracking.traviangames.com', (2539, 13)),\n",
       " ('le-menhir.fr', (2569, 13)),\n",
       " ('www.mkyong.com', (2703, 13)),\n",
       " ('media.monster.com', (2756, 13)),\n",
       " ('www.maty.com', (2888, 13)),\n",
       " ('cran.r-project.org', (2995, 13)),\n",
       " ('ts1.mm.bing.net', (3055, 13)),\n",
       " ('www.regimedukan.com', (3103, 13)),\n",
       " ('ptc.uquebec.ca', (3177, 13)),\n",
       " ('www.smart-doc.org', (3241, 13)),\n",
       " ('www.groupama-gan-recrute.com', (3400, 13)),\n",
       " ('spc.cengdfnebeehogefbehdnefe.vast2as3.fox-pubnet.fr.telemetryverification.net',\n",
       "  (3969, 13)),\n",
       " ('spc.ceedgflebejfafnelgcehefe.ijs.venatusmedia-pubnet.fr.telemetryverification.net',\n",
       "  (4009, 13)),\n",
       " ('fr.viadeo.com', (4119, 13)),\n",
       " ('www.yasni.info', (4463, 13)),\n",
       " ('img.scoop.it', (4695, 13)),\n",
       " ('dtm.ccs.com', (18, 12)),\n",
       " ('aspserveur.bench.cedexis.com', (135, 12)),\n",
       " ('messagerie-12.sfr.fr', (136, 12)),\n",
       " ('cntr.adrcntr.com', (154, 12)),\n",
       " ('static.videostep.com', (232, 12)),\n",
       " ('www.20minutes.fr', (269, 12)),\n",
       " ('static.groupon.fr', (870, 12)),\n",
       " ('fr.primary.affinitad.com', (996, 12)),\n",
       " ('ids.craig.fr', (1105, 12)),\n",
       " ('adm.fwmrm.net', (1122, 12)),\n",
       " ('calotag.com', (1152, 12)),\n",
       " ('powerpoint.officeapps.live.com', (1184, 12)),\n",
       " ('www.slate.fr', (1254, 12)),\n",
       " ('www.spi0n.com', (1373, 12)),\n",
       " ('dps.bing.com', (1452, 12)),\n",
       " ('ecn.dev.virtualearth.net', (1486, 12)),\n",
       " ('d36xtkk24g8jdx.cloudfront.net', (1677, 12)),\n",
       " ('minijscss.rightinthebox.com', (1686, 12)),\n",
       " ('site.availpro.com', (1747, 12)),\n",
       " ('magazine.developpez.com', (1885, 12)),\n",
       " ('imgv2-1.scribdassets.com', (1930, 12)),\n",
       " ('www.jules.com', (2380, 12)),\n",
       " ('i.huffpost.com', (2406, 12)),\n",
       " ('accounts.google.co.ma', (2478, 12)),\n",
       " ('deptinfo.unice.fr', (2510, 12)),\n",
       " ('wenku.baidu.com', (2524, 12)),\n",
       " ('download.forge.objectweb.org', (2580, 12)),\n",
       " ('www.sqldeveloper.net', (2582, 12)),\n",
       " ('www.actualitix.com', (3049, 12)),\n",
       " ('offre-emploi.monster.fr', (3276, 12)),\n",
       " ('www.cadremploi.fr', (3281, 12)),\n",
       " ('yupeek.com', (3346, 12)),\n",
       " ('www.capcampus.com', (3447, 12)),\n",
       " ('capcampus.net', (3448, 12)),\n",
       " ('static2.pagesjaunes.fr', (3462, 12)),\n",
       " ('blogs-images.forbes.com', (3711, 12)),\n",
       " ('static.bellanaija.com', (3722, 12)),\n",
       " ('www.huffingtonpost.com', (3833, 12)),\n",
       " ('www.plaisirssante.ca', (4392, 12)),\n",
       " ('perles-du-bon-coin.fr', (4757, 12)),\n",
       " ('trk.adbutter.net', (21, 11)),\n",
       " ('gb2.cedexis.swiftserve.com', (108, 11)),\n",
       " ('azionusa.cedexis.com', (166, 11)),\n",
       " ('math.agrocampus-ouest.fr', (180, 11)),\n",
       " ('audience.visiblemeasures.com', (288, 11)),\n",
       " ('www.scribd.com', (440, 11)),\n",
       " ('s7.scribdassets.com', (443, 11)),\n",
       " ('iad.rackspace.bench.cedexis.com', (544, 11)),\n",
       " ('www.hotmail.fr', (634, 11)),\n",
       " ('perpetuo-onl.basilic.io', (678, 11)),\n",
       " ('i1.wp.com', (741, 11)),\n",
       " ('tempsreel.nouvelobs.com', (851, 11)),\n",
       " ('www.delta-search.com', (1012, 11)),\n",
       " ('tools.usps.com', (1097, 11)),\n",
       " ('a405.idata.over-blog.com', (1127, 11)),\n",
       " ('passets.pinterest.com', (1206, 11)),\n",
       " ('divertissements.fr.msn.com', (1236, 11)),\n",
       " ('cdnvideo.aufeminin.com', (1264, 11)),\n",
       " ('www.deezer.com', (1283, 11)),\n",
       " ('www.almerys.com', (1297, 11)),\n",
       " ('fls-na.amazon.com', (1367, 11)),\n",
       " ('www.higp.hawaii.edu', (1415, 11)),\n",
       " ('h.bing.com', (1448, 11)),\n",
       " ('melty.fr', (1468, 11)),\n",
       " ('www.covoiturageauvergne.net', (1526, 11)),\n",
       " ('fr.web.img5.acsta.net', (1621, 11)),\n",
       " ('zupimages.net', (1622, 11)),\n",
       " ('www.meltyfashion.fr', (1680, 11)),\n",
       " ('eulerian.netbooster.com', (1754, 11)),\n",
       " ('docs.spring.io', (1910, 11)),\n",
       " ('ds.reson8.com', (1934, 11)),\n",
       " ('design.jboss.org', (2009, 11)),\n",
       " ('labs.jboss.com', (2011, 11)),\n",
       " ('www.jboss.org', (2012, 11)),\n",
       " ('badge.stumbleupon.com', (2095, 11)),\n",
       " ('camel.apache.org', (2128, 11)),\n",
       " ('www.cplusplus.com', (2200, 11)),\n",
       " ('www.enseignement.polytechnique.fr', (2220, 11)),\n",
       " ('www.inrialpes.fr', (2366, 11)),\n",
       " ('fr.intext.adfever.com', (2424, 11)),\n",
       " ('www.linkwithin.com', (2445, 11)),\n",
       " ('wa.ui-portal.de', (2495, 11)),\n",
       " ('static.wenku.bdimg.com', (2520, 11)),\n",
       " ('nsclick.baidu.com', (2523, 11)),\n",
       " ('stats.adobe.com', (2676, 11)),\n",
       " ('blog.soat.fr', (2730, 11)),\n",
       " ('dmros.ysm.yahoo.com', (2764, 11)),\n",
       " ('www.duclert.org', (2788, 11)),\n",
       " ('www.memoireonline.com', (2831, 11)),\n",
       " ('www.farfesh.com', (2862, 11)),\n",
       " ('mailmedia.showroomprive.com', (2927, 11)),\n",
       " ('thumbp5-ir2.thumb.mail.yahoo.com', (2951, 11)),\n",
       " ('redir.news2.cdiscount.com', (2969, 11)),\n",
       " ('quintiles.taleo.net', (2991, 11)),\n",
       " ('cdlc.iadvize.com', (3024, 11)),\n",
       " ('ts2.mm.bing.net', (3056, 11)),\n",
       " ('www.crous-clermont.fr', (3077, 11)),\n",
       " ('www.misfu.com', (3360, 11)),\n",
       " ('yui-s.yahooapis.com', (3502, 11)),\n",
       " ('b2capi.viamichelin.fr', (3638, 11)),\n",
       " ('dub111.mail.live.com', (3691, 11)),\n",
       " ('images.forbes.com', (3713, 11)),\n",
       " ('apps.facebook.com', (3794, 11)),\n",
       " ('lentreprise.lexpress.fr', (3917, 11)),\n",
       " ...]"
      ]
     },
     "execution_count": 108,
     "metadata": {},
     "output_type": "execute_result"
    }
   ],
   "source": [
    "def take_freq(elem):\n",
    "    temp = elem[1]\n",
    "    return temp[1]\n",
    "sort_dict = sorted(site_dict.items(), key=take_freq, reverse = True)\n",
    "sort_dict"
   ]
  },
  {
   "cell_type": "code",
   "execution_count": 114,
   "metadata": {
    "collapsed": false
   },
   "outputs": [],
   "source": [
    "top10_freqs = [x[1][1] for x in sort_dict][0:10]\n",
    "top10_site = [x[0] for x in sort_dict][0:10]\n",
    "#site_dict.values"
   ]
  },
  {
   "cell_type": "markdown",
   "metadata": {},
   "source": [
    "**9. Нарисуйте *seaborn barplot*, показывающий частоты посещений топ-10 сайтов. Сделайте подписи сайтов вертикальными, иначе они сливаются (*xticks*).**"
   ]
  },
  {
   "cell_type": "code",
   "execution_count": 115,
   "metadata": {
    "collapsed": false
   },
   "outputs": [
    {
     "data": {
      "text/plain": [
       "<matplotlib.axes._subplots.AxesSubplot at 0xbd29e48>"
      ]
     },
     "execution_count": 115,
     "metadata": {},
     "output_type": "execute_result"
    },
    {
     "data": {
      "image/png": "[encoded data removed]",
      "text/plain": [
       "<matplotlib.figure.Figure at 0xe2460b8>"
      ]
     },
     "metadata": {},
     "output_type": "display_data"
    }
   ],
   "source": [
    "sns.barplot(top10_freqs,top10_site)"
   ]
  },
  {
   "cell_type": "markdown",
   "metadata": {},
   "source": [
    "## Часть 3. Дальнейшее построение признаков"
   ]
  },
  {
   "cell_type": "markdown",
   "metadata": {},
   "source": [
    "Это задание творческое, тут надо придумать, как еще учесть время посещения веб-страниц и прочие признаки. \n",
    "\n",
    "На следующей неделе мы будем использовать \"мешок\" сайтов  для классификации сессий по принадлежности разным пользователям, а эти новые признаки, которые Вы сейчас создадите, потом добавим и посмотрим, улучшается ли модель. Поэтому можно их создать в виде отдельных матриц и сохранить их также отдельно.  \n",
    "\n",
    "В этой части задания Вы можете построить и визуально исследовать самые разные признаки (ничто фантазию не ограничивает):\n",
    "- год, месяц и день начала сессии\n",
    "- час начала сессии (с учетом года, месяца и дня)\n",
    "- время суток\n",
    "- среднее время пребывания на сайте, посчитать можно, скажем, для топ-30 популярных сайтов\n",
    "- индикаторы посещения популярных сайтов (скажем, тоже для топ-30 популярных сайтов)\n",
    "- частота посещения Facebook\n",
    "- ..."
   ]
  },
  {
   "cell_type": "markdown",
   "metadata": {},
   "source": [
    "**Напишите функцию для создания новых признаков и примените ее к исходным данным – каталогам с 10 и 150 файлами. Сделайте это только для набора данных, полученного с параметрами *session_length=10* и *window_size=10*. Сериализуйте полученные матрицы с помощью pickle. Функция может возвращать как только новые признаки, так и старые с новыми. При этом сигнатура функции может быть другой – тут уже свобода выбора.**"
   ]
  },
  {
   "cell_type": "code",
   "execution_count": null,
   "metadata": {
    "collapsed": true
   },
   "outputs": [],
   "source": [
    "def feature_engineering(path_to_csv_files, features, session_length=10):\n",
    "    '''\n",
    "    ВАШ КОД ЗДЕСЬ\n",
    "    ''' "
   ]
  },
  {
   "cell_type": "code",
   "execution_count": null,
   "metadata": {
    "collapsed": true
   },
   "outputs": [],
   "source": [
    "new_features_10users = feature_engineering ''' ВАШ КОД ЗДЕСЬ ''' "
   ]
  },
  {
   "cell_type": "code",
   "execution_count": null,
   "metadata": {
    "collapsed": true
   },
   "outputs": [],
   "source": [
    "new_features_150users = feature_engineering ''' ВАШ КОД ЗДЕСЬ ''' "
   ]
  },
  {
   "cell_type": "markdown",
   "metadata": {},
   "source": [
    "**10. Постройте картинки для новых признаков, поисследуйте их, прокомментируйте результаты.**"
   ]
  },
  {
   "cell_type": "code",
   "execution_count": null,
   "metadata": {
    "collapsed": true
   },
   "outputs": [],
   "source": [
    "''' ВАШ КОД ЗДЕСЬ ''' "
   ]
  },
  {
   "cell_type": "markdown",
   "metadata": {},
   "source": [
    "**В конце сохраните в pickle-файлы только те признаки, которые, как Вы предполагаете, помогут идентифицировать пользователя более точно. Это касается и признаков, которые мы вместе создали в начале (*session_timespan, #unique_sites, start_hour, day_of_week*), и Ваших собственных. Можно создать все эти признаки не только для сессий из 10 сайтов, но и для других сочетаний параметров *session_length* и *window_size*.**"
   ]
  },
  {
   "cell_type": "code",
   "execution_count": null,
   "metadata": {
    "collapsed": true
   },
   "outputs": [],
   "source": [
    "selected_features_10users = ''' ВАШ КОД ЗДЕСЬ ''' \n",
    "selected_features_150users = ''' ВАШ КОД ЗДЕСЬ ''' "
   ]
  },
  {
   "cell_type": "code",
   "execution_count": null,
   "metadata": {
    "collapsed": true
   },
   "outputs": [],
   "source": [
    "with open(os.path.join(PATH_TO_DATA, \n",
    "                       'selected_features_10users.pkl'), 'wb') as selected_features_10users_pkl:\n",
    "    pickle.dump(selected_features_10users, selected_features_10users_pkl, \n",
    "                protocol=2)\n",
    "with open(os.path.join(PATH_TO_DATA, \n",
    "                       'selected_features_150users.pkl'), 'wb') as selected_features_150users_pkl:\n",
    "    pickle.dump(selected_features_150users, selected_features_150users_pkl, \n",
    "                protocol=2)"
   ]
  },
  {
   "cell_type": "markdown",
   "metadata": {},
   "source": [
    "На следующей неделе мы наконец приступим к обучению моделей классификации. "
   ]
  }
 ],
 "metadata": {
  "anaconda-cloud": {},
  "kernelspec": {
   "display_name": "Python 3",
   "language": "python",
   "name": "python3"
  },
  "language_info": {
   "codemirror_mode": {
    "name": "ipython",
    "version": 3
   },
   "file_extension": ".py",
   "mimetype": "text/x-python",
   "name": "python",
   "nbconvert_exporter": "python",
   "pygments_lexer": "ipython3",
   "version": "3.6.0"
  }
 },
 "nbformat": 4,
 "nbformat_minor": 1
}
